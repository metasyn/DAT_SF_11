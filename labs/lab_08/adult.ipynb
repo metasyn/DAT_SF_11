{
 "metadata": {
  "name": "",
  "signature": "sha256:62c28072ca8977eeb5d131e442550feee079640131af56bd4d4f20e6a4a4c78e"
 },
 "nbformat": 3,
 "nbformat_minor": 0,
 "worksheets": [
  {
   "cells": [
    {
     "cell_type": "markdown",
     "metadata": {},
     "source": [
      "#Adult Data Set\n",
      "Prediction task is to determine whether a person makes over 50K a year.<br>\n",
      "Use this Notebook to do your exploration and modeling."
     ]
    },
    {
     "cell_type": "markdown",
     "metadata": {},
     "source": [
      "###But first, a protip"
     ]
    },
    {
     "cell_type": "code",
     "collapsed": false,
     "input": [
      "import pandas as pd"
     ],
     "language": "python",
     "metadata": {},
     "outputs": []
    },
    {
     "cell_type": "code",
     "collapsed": false,
     "input": [
      "cols = ['age',\n",
      "        'workclass',\n",
      "        'fnlwgt',\n",
      "        'education',\n",
      "        'education-num',\n",
      "        'marital-status',\n",
      "        'occupation',\n",
      "        'relationship',\n",
      "        'race',\n",
      "        'sex',\n",
      "        'capital-gain',\n",
      "        'capital-loss,'\n",
      "        'hours-per-week',\n",
      "        'native-country',\n",
      "        'income']\n",
      "adult_df = pd.read_csv('http://archive.ics.uci.edu/ml/machine-learning-databases/adult/adult.data',\n",
      "                       header=0,names=cols,index_col=False)"
     ],
     "language": "python",
     "metadata": {},
     "outputs": []
    },
    {
     "cell_type": "markdown",
     "metadata": {},
     "source": [
      "###Now, you're on your own."
     ]
    },
    {
     "cell_type": "code",
     "collapsed": false,
     "input": [],
     "language": "python",
     "metadata": {},
     "outputs": []
    }
   ],
   "metadata": {}
  }
 ]
}