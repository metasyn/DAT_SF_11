{
 "metadata": {
  "name": "",
  "signature": "sha256:d8d6b5c35f8403f2adb22edc3b82ec40782cc88d13849cc83603d1ddabe3a78c"
 },
 "nbformat": 3,
 "nbformat_minor": 0,
 "worksheets": [
  {
   "cells": [
    {
     "cell_type": "code",
     "collapsed": false,
     "input": [
      "# Install seaborn\n",
      "# If this line gives an error, go back to command prompt and run \"conda install pip\" and then try this step again\n",
      "!pip install seaborn"
     ],
     "language": "python",
     "metadata": {},
     "outputs": []
    },
    {
     "cell_type": "code",
     "collapsed": false,
     "input": [
      "# Standard imports for data analysis packages in Python\n",
      "import pandas as pd\n",
      "import numpy as np\n",
      "import seaborn as sns  # for pretty layout of plots\n",
      "import matplotlib.pyplot as plt\n",
      "from pprint import pprint  # for pretty printing\n",
      "\n",
      "# This enables inline Plots\n",
      "%matplotlib inline\n",
      "\n",
      "# Limit rows displayed in notebook\n",
      "pd.set_option('display.max_rows', 10)\n",
      "pd.set_option('display.precision', 2)"
     ],
     "language": "python",
     "metadata": {},
     "outputs": []
    },
    {
     "cell_type": "code",
     "collapsed": false,
     "input": [
      "print 'Pandas Version: ', pd.__version__\n",
      "print 'Numpy Version: ', np.__version__"
     ],
     "language": "python",
     "metadata": {},
     "outputs": []
    },
    {
     "cell_type": "code",
     "collapsed": false,
     "input": [
      "# Let's explore Titanic Dataset\n",
      "bike = pd.read_csv('../data/kaggle_bike_train.csv', parse_dates=True)"
     ],
     "language": "python",
     "metadata": {},
     "outputs": []
    },
    {
     "cell_type": "code",
     "collapsed": false,
     "input": [
      "# Look at head rows\n",
      "bike.head(5)"
     ],
     "language": "python",
     "metadata": {},
     "outputs": []
    },
    {
     "cell_type": "code",
     "collapsed": false,
     "input": [
      "bike.columns"
     ],
     "language": "python",
     "metadata": {},
     "outputs": []
    },
    {
     "cell_type": "code",
     "collapsed": false,
     "input": [
      "bike.dtypes"
     ],
     "language": "python",
     "metadata": {},
     "outputs": []
    },
    {
     "cell_type": "code",
     "collapsed": false,
     "input": [
      "# Look at Info\n",
      "bike.info()"
     ],
     "language": "python",
     "metadata": {},
     "outputs": []
    },
    {
     "cell_type": "code",
     "collapsed": false,
     "input": [
      "bike.rename(columns={'datetime': 'row_dt', 'count': 'rentals'}, inplace=True)\n",
      "# inplace explain"
     ],
     "language": "python",
     "metadata": {},
     "outputs": []
    },
    {
     "cell_type": "code",
     "collapsed": false,
     "input": [
      "bike.head(4)"
     ],
     "language": "python",
     "metadata": {},
     "outputs": []
    },
    {
     "cell_type": "code",
     "collapsed": false,
     "input": [
      "# Selecting Columns\n",
      "bike['season']"
     ],
     "language": "python",
     "metadata": {},
     "outputs": []
    },
    {
     "cell_type": "code",
     "collapsed": false,
     "input": [
      "# Selecting multiple columns\n",
      "bike[['row_dt', 'season', 'rentals']]"
     ],
     "language": "python",
     "metadata": {},
     "outputs": []
    },
    {
     "cell_type": "markdown",
     "metadata": {},
     "source": [
      "### Selecting Rows - ix, iloc, loc\n",
      "\n",
      "* iloc - Selecting by INDEX Numbers\n",
      "* loc - Selecting by Names (for index and Columns)\n",
      "* ix - Will do either one depending on input.  Most widely used"
     ]
    },
    {
     "cell_type": "code",
     "collapsed": false,
     "input": [
      "# Selecting rows\n",
      "bike.iloc[0]"
     ],
     "language": "python",
     "metadata": {},
     "outputs": []
    },
    {
     "cell_type": "code",
     "collapsed": false,
     "input": [
      "bike.iloc[0:2, 0:2]"
     ],
     "language": "python",
     "metadata": {},
     "outputs": []
    },
    {
     "cell_type": "code",
     "collapsed": false,
     "input": [
      "bike.loc[0:2, ['season', 'temp']]"
     ],
     "language": "python",
     "metadata": {},
     "outputs": []
    },
    {
     "cell_type": "code",
     "collapsed": false,
     "input": [
      "# ix tries to be smart between iloc and loc\n",
      "bike.ix[0:2, 0:2]"
     ],
     "language": "python",
     "metadata": {},
     "outputs": []
    },
    {
     "cell_type": "code",
     "collapsed": false,
     "input": [
      "bike.ix[0:2, ['season', 'row_dt']]"
     ],
     "language": "python",
     "metadata": {},
     "outputs": []
    },
    {
     "cell_type": "code",
     "collapsed": false,
     "input": [
      "# Now your turn.  Practice Row and Column Selections for 2-3 minutes, ask for help if stuck"
     ],
     "language": "python",
     "metadata": {},
     "outputs": []
    },
    {
     "cell_type": "markdown",
     "metadata": {},
     "source": [
      "### Filtering (Masking) Data"
     ]
    },
    {
     "cell_type": "code",
     "collapsed": false,
     "input": [
      "# Filtering of data\n",
      "bike.rentals > 500"
     ],
     "language": "python",
     "metadata": {},
     "outputs": []
    },
    {
     "cell_type": "code",
     "collapsed": false,
     "input": [
      "bike[bike.rentals > 500]"
     ],
     "language": "python",
     "metadata": {},
     "outputs": []
    },
    {
     "cell_type": "code",
     "collapsed": false,
     "input": [
      "(bike.rentals > 500).sum()"
     ],
     "language": "python",
     "metadata": {},
     "outputs": []
    },
    {
     "cell_type": "code",
     "collapsed": false,
     "input": [
      "# Now, let's see how many rentals were over 500 and was on a Holiday\n",
      "bike[(bike.rentals > 500) & (bike.holiday == 1)]"
     ],
     "language": "python",
     "metadata": {},
     "outputs": []
    },
    {
     "cell_type": "code",
     "collapsed": false,
     "input": [
      "# Your turn now.  Try doing some filters on the data. You might get some traceback errors, we all do.  \n",
      "# Just scroll to bottom and see if the message helps identify the error\n",
      "# Lets take 2-3 minutes"
     ],
     "language": "python",
     "metadata": {},
     "outputs": []
    },
    {
     "cell_type": "markdown",
     "metadata": {},
     "source": [
      "### Convert date into a datetime object"
     ]
    },
    {
     "cell_type": "code",
     "collapsed": false,
     "input": [
      "# The row_dt is not a datetime object and still a String.  Let's take a look\n",
      "bike.row_dt"
     ],
     "language": "python",
     "metadata": {},
     "outputs": []
    },
    {
     "cell_type": "code",
     "collapsed": false,
     "input": [
      "bike.row_dt[0]"
     ],
     "language": "python",
     "metadata": {},
     "outputs": []
    },
    {
     "cell_type": "code",
     "collapsed": false,
     "input": [
      "# Datetime field is imported as \"object\" which is the same as strings\n",
      "bike.row_dt = pd.to_datetime(bike.row_dt)"
     ],
     "language": "python",
     "metadata": {},
     "outputs": []
    },
    {
     "cell_type": "code",
     "collapsed": false,
     "input": [
      "print dir(bike.row_dt[0])"
     ],
     "language": "python",
     "metadata": {},
     "outputs": []
    },
    {
     "cell_type": "code",
     "collapsed": false,
     "input": [
      "# Creating new columns in Pandas is easy\n",
      "# Get Day of week, date\n",
      "bike['daynum'] = bike.row_dt.map(lambda x: x.dayofweek)"
     ],
     "language": "python",
     "metadata": {},
     "outputs": []
    },
    {
     "cell_type": "code",
     "collapsed": false,
     "input": [
      "bike['row_date'] = bike.row_dt.map(lambda x: x.date())\n",
      "bike['row_time'] = bike.row_dt.map(lambda x: x.time())"
     ],
     "language": "python",
     "metadata": {},
     "outputs": []
    },
    {
     "cell_type": "code",
     "collapsed": false,
     "input": [
      "bike"
     ],
     "language": "python",
     "metadata": {},
     "outputs": []
    },
    {
     "cell_type": "markdown",
     "metadata": {},
     "source": [
      "### Pandas Indexing\n",
      "\n",
      "* Index helps in quickly getting to the slices of data and is Fast"
     ]
    },
    {
     "cell_type": "code",
     "collapsed": false,
     "input": [
      "# Try getting all data for 1st January 2011\n",
      "%timeit bike[bike.row_date == '2011-01-01']"
     ],
     "language": "python",
     "metadata": {},
     "outputs": []
    },
    {
     "cell_type": "code",
     "collapsed": false,
     "input": [
      "# Let's convert datetime into a datetime object\n",
      "bike.set_index(['row_dt'], inplace=True)"
     ],
     "language": "python",
     "metadata": {},
     "outputs": []
    },
    {
     "cell_type": "code",
     "collapsed": false,
     "input": [
      "bike.head(5)"
     ],
     "language": "python",
     "metadata": {},
     "outputs": []
    },
    {
     "cell_type": "code",
     "collapsed": false,
     "input": [
      "# Now let's use indexing to get Jan' 1st 2011 data\n",
      "%timeit bike['2011-01-01 00:00:00': '2011-01-01 23:00:00']"
     ],
     "language": "python",
     "metadata": {},
     "outputs": []
    },
    {
     "cell_type": "markdown",
     "metadata": {},
     "source": [
      "### Let's look at distribution of rentals using Histograms"
     ]
    },
    {
     "cell_type": "code",
     "collapsed": false,
     "input": [
      "# Rentals - Distribution\n",
      "bike.rentals.hist()"
     ],
     "language": "python",
     "metadata": {},
     "outputs": []
    },
    {
     "cell_type": "code",
     "collapsed": false,
     "input": [
      "bike.rentals.hist(by=bike.workingday, sharey=True, sharex=True, bins=50)"
     ],
     "language": "python",
     "metadata": {},
     "outputs": []
    },
    {
     "cell_type": "code",
     "collapsed": false,
     "input": [
      "bike.head()"
     ],
     "language": "python",
     "metadata": {},
     "outputs": []
    },
    {
     "cell_type": "markdown",
     "metadata": {},
     "source": [
      "### Translate these codes into values that we can understand\n",
      "\n",
      "* Workingday, season, weather - from code to descriptions\n",
      "* Temperatures -> from celsius to F"
     ]
    },
    {
     "cell_type": "code",
     "collapsed": false,
     "input": [
      "def get_season_desc(numb):\n",
      "    if numb == 1:\n",
      "        return 'spring'\n",
      "    elif numb == 2:\n",
      "        return 'summer'\n",
      "    elif numb == 3:\n",
      "        return 'fall'\n",
      "    elif numb == 4:\n",
      "        return 'winter'\n",
      "    else:\n",
      "        return str(numb)\n",
      "\n",
      "\n",
      "bike['seas_desc'] = bike['season'].map(get_season_desc)"
     ],
     "language": "python",
     "metadata": {},
     "outputs": []
    },
    {
     "cell_type": "code",
     "collapsed": false,
     "input": [
      "bike.head()"
     ],
     "language": "python",
     "metadata": {},
     "outputs": []
    },
    {
     "cell_type": "code",
     "collapsed": false,
     "input": [
      "# Now, delete that new column, because we are going to write it in a more pythonic way\n",
      "\n",
      "# Delete Statement\n",
      "# del bike['seas_desc']\n",
      "\n",
      "# Or as bike.drop method\n",
      "bike.drop('seas_desc', axis=1, inplace=True)  # Axis 0 is rows, Axis 1 is columns"
     ],
     "language": "python",
     "metadata": {},
     "outputs": []
    },
    {
     "cell_type": "code",
     "collapsed": false,
     "input": [
      "# Did it really get deleted?\n",
      "bike.head(5)"
     ],
     "language": "python",
     "metadata": {},
     "outputs": []
    },
    {
     "cell_type": "code",
     "collapsed": false,
     "input": [
      "# A more cleaner way of doing the same translation using Dictionaries\n",
      "def get_season_desc(numb):\n",
      "    season = {}\n",
      "    season[1] = 'spring'\n",
      "    season[2] = 'summer'\n",
      "    season[3] = 'fall'\n",
      "    season[4] = 'winter'\n",
      "    \n",
      "    return season[numb]\n",
      "\n",
      "bike['seas_desc'] = bike['season'].map(get_season_desc)"
     ],
     "language": "python",
     "metadata": {},
     "outputs": []
    },
    {
     "cell_type": "code",
     "collapsed": false,
     "input": [
      "bike.head()"
     ],
     "language": "python",
     "metadata": {},
     "outputs": []
    },
    {
     "cell_type": "code",
     "collapsed": false,
     "input": [
      "# Now it's your turn.  Can you translate, workingday\n",
      "def get_workingday_desc(numb):\n",
      "    '''returns 'workday' when value is 0 else returns 'dayoff'\n",
      "    '''\n",
      "    # Your code goes here\n",
      "\n",
      "bike['day_desc'] = bike['workingday'].map(get_workingday_desc)"
     ],
     "language": "python",
     "metadata": {},
     "outputs": []
    },
    {
     "cell_type": "code",
     "collapsed": false,
     "input": [
      "# Let's convert Temperatures into fahrenheit\n",
      "def get_fahrenheit(celsius):\n",
      "    # Fahrenheit = celsius * 1.8 + 32\n",
      "    # 1 Celsius = 33.8 Fahrenheit\n",
      "    # your code goes here\n",
      "\n",
      "    \n",
      "bike['temp_f'] = bike['temp'].map(get_fahrenheit)\n",
      "bike['atemp_f'] = bike['atemp'].map(get_fahrenheit)"
     ],
     "language": "python",
     "metadata": {},
     "outputs": []
    },
    {
     "cell_type": "code",
     "collapsed": false,
     "input": [
      "bike.head()"
     ],
     "language": "python",
     "metadata": {},
     "outputs": []
    },
    {
     "cell_type": "code",
     "collapsed": false,
     "input": [
      "bike.rentals.hist(by=bike.day_desc, sharey=True, sharex=True, bins=50)"
     ],
     "language": "python",
     "metadata": {},
     "outputs": []
    },
    {
     "cell_type": "markdown",
     "metadata": {},
     "source": [
      "### On Average, do people bike more on workday vs offday?\n",
      "\n",
      "* This is where we are going to slice the data for the condition and sum the number of rentals\n",
      "\n"
     ]
    },
    {
     "cell_type": "code",
     "collapsed": false,
     "input": [
      "# Pandas Slicing - Boolean conditions\n",
      "bike.day_desc == 'workday'"
     ],
     "language": "python",
     "metadata": {},
     "outputs": []
    },
    {
     "cell_type": "code",
     "collapsed": false,
     "input": [
      "bike[bike.day_desc == 'workday'].rentals.sum()"
     ],
     "language": "python",
     "metadata": {},
     "outputs": []
    },
    {
     "cell_type": "code",
     "collapsed": false,
     "input": [
      "bike[bike.day_desc == 'dayoff'].rentals.sum()"
     ],
     "language": "python",
     "metadata": {},
     "outputs": []
    },
    {
     "cell_type": "code",
     "collapsed": false,
     "input": [
      "# But we want the average rentals for offday\n",
      "bike[bike.day_desc == 'dayoff'].rentals.mean()"
     ],
     "language": "python",
     "metadata": {},
     "outputs": []
    },
    {
     "cell_type": "code",
     "collapsed": false,
     "input": [
      "# How does the distribution look like? - Let's just plot it and see\n",
      "bike[bike.day_desc == 'workday'].rentals.hist()"
     ],
     "language": "python",
     "metadata": {},
     "outputs": []
    },
    {
     "cell_type": "code",
     "collapsed": false,
     "input": [
      "bike[bike.day_desc == 'dayoff'].rentals.hist()"
     ],
     "language": "python",
     "metadata": {},
     "outputs": []
    },
    {
     "cell_type": "code",
     "collapsed": false,
     "input": [
      "# They look the similar number, but they really are not.  Look at the scales - They are different\n",
      "bike.rentals.hist(by=bike.day_desc, sharex=True, sharey=True, bins=50)"
     ],
     "language": "python",
     "metadata": {},
     "outputs": []
    },
    {
     "cell_type": "markdown",
     "metadata": {},
     "source": [
      "### huh, some days people don't rent at all and others they rent a lot.\n",
      "\n",
      "*  How do we understand this demand.\n",
      "* Is there a difference between Spring, Summer, Fall and Winter"
     ]
    },
    {
     "cell_type": "code",
     "collapsed": false,
     "input": [
      "# Do the same plots for Spring Summer Fall and Winter instead of workingday_desc\n",
      "\n",
      "# Your Turn\n"
     ],
     "language": "python",
     "metadata": {},
     "outputs": []
    },
    {
     "cell_type": "markdown",
     "metadata": {},
     "source": [
      "### Let's do some Boxplots to see distribution\n",
      "\n",
      "* Boxplots offer another way of looking at boundaries of data."
     ]
    },
    {
     "cell_type": "code",
     "collapsed": false,
     "input": [
      "ax = bike.boxplot(column=['rentals', 'casual', 'registered']);"
     ],
     "language": "python",
     "metadata": {},
     "outputs": []
    },
    {
     "cell_type": "code",
     "collapsed": false,
     "input": [
      "ax = bike.boxplot(column=['rentals'], by=['day_desc'])"
     ],
     "language": "python",
     "metadata": {},
     "outputs": []
    },
    {
     "cell_type": "code",
     "collapsed": false,
     "input": [
      "bike.boxplot(column=['rentals', 'casual', 'registered'], by=['seas_desc']);"
     ],
     "language": "python",
     "metadata": {},
     "outputs": []
    },
    {
     "cell_type": "markdown",
     "metadata": {},
     "source": [
      "### What if we want to aggregate the rentals by Day"
     ]
    },
    {
     "cell_type": "code",
     "collapsed": false,
     "input": [
      "bike.head()"
     ],
     "language": "python",
     "metadata": {},
     "outputs": []
    },
    {
     "cell_type": "code",
     "collapsed": false,
     "input": [
      "# How do you aggregate data by days\n",
      "bike_day = bike[['casual', 'registered', 'rentals']].resample('D', how=np.sum)"
     ],
     "language": "python",
     "metadata": {},
     "outputs": []
    },
    {
     "cell_type": "code",
     "collapsed": false,
     "input": [
      "bike_day.head()"
     ],
     "language": "python",
     "metadata": {},
     "outputs": []
    },
    {
     "cell_type": "code",
     "collapsed": false,
     "input": [
      "bike_day['2011-03-01': '2011-03-31']['rentals'].plot()"
     ],
     "language": "python",
     "metadata": {},
     "outputs": []
    },
    {
     "cell_type": "code",
     "collapsed": false,
     "input": [],
     "language": "python",
     "metadata": {},
     "outputs": []
    }
   ],
   "metadata": {}
  }
 ]
}