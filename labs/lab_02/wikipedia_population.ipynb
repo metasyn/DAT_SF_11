{
 "metadata": {
  "name": "",
  "signature": "sha256:cb733c81353a3fa568ba3866039514080e63c7fd01158c3b57cb9386b1442e2c"
 },
 "nbformat": 3,
 "nbformat_minor": 0,
 "worksheets": [
  {
   "cells": [
    {
     "cell_type": "code",
     "collapsed": false,
     "input": [
      "# install beautifulsoup4\n",
      "!pip install beautifulsoup4"
     ],
     "language": "python",
     "metadata": {},
     "outputs": []
    },
    {
     "cell_type": "code",
     "collapsed": false,
     "input": [
      "# For compatibility with Python 3\n",
      "from __future__ import print_function, division"
     ],
     "language": "python",
     "metadata": {},
     "outputs": []
    },
    {
     "cell_type": "markdown",
     "metadata": {},
     "source": [
      "### Doc References\n",
      "\n",
      "* [ipython notebook](http://ipython.org/documentation.html)\n",
      "* [requests](http://docs.python-requests.org/en/latest/)\n",
      "* [BeautifulSoup](http://www.crummy.com/software/BeautifulSoup/bs4/doc/)"
     ]
    },
    {
     "cell_type": "code",
     "collapsed": false,
     "input": [
      "# Standard imports for data analysis packages in Python\n",
      "import pandas as pd\n",
      "import numpy as np\n",
      "import matplotlib.pyplot as plt\n",
      "import seaborn as sns\n",
      "from bs4 import BeautifulSoup\n",
      "import requests\n",
      "from pprint import pprint  # We can use this instead of Print if we want to make it pretty\n",
      "\n",
      "# This enables inline Plots\n",
      "%matplotlib inline"
     ],
     "language": "python",
     "metadata": {},
     "outputs": []
    },
    {
     "cell_type": "code",
     "collapsed": false,
     "input": [
      "print('Pandas: ', pd.__version__)\n",
      "print('Numpy: ', np.__version__)\n",
      "import matplotlib\n",
      "print('matplotlib: ', matplotlib.__version__)\n",
      "import bs4\n",
      "print('BeautifulSoup: ', bs4.__version__)\n",
      "print('requests: ', requests.__version__)\n",
      "print('Seaborn: ', sns.__version__)"
     ],
     "language": "python",
     "metadata": {},
     "outputs": []
    },
    {
     "cell_type": "markdown",
     "metadata": {},
     "source": [
      "## We are going to Scrape Population data from Wikipedia"
     ]
    },
    {
     "cell_type": "code",
     "collapsed": false,
     "input": [
      "url = 'http://en.wikipedia.org/wiki/List_of_countries_by_past_and_future_population'"
     ],
     "language": "python",
     "metadata": {},
     "outputs": []
    },
    {
     "cell_type": "code",
     "collapsed": false,
     "input": [
      "pop_resp = requests.get(url)\n",
      "pop_resp"
     ],
     "language": "python",
     "metadata": {},
     "outputs": []
    },
    {
     "cell_type": "code",
     "collapsed": false,
     "input": [
      "pprint(pop_resp.request.headers)"
     ],
     "language": "python",
     "metadata": {},
     "outputs": []
    },
    {
     "cell_type": "code",
     "collapsed": false,
     "input": [
      "# Content contains the HTML Page\n",
      "# pop_resp.content\n",
      "soup = BeautifulSoup(pop_resp.content)"
     ],
     "language": "python",
     "metadata": {},
     "outputs": []
    },
    {
     "cell_type": "code",
     "collapsed": false,
     "input": [
      "population_tables = []\n",
      "for table in soup.find_all('table', {'class': ['sortable', 'wikitable']}):\n",
      "    if 'sortable' in table.attrs.get('class') and 'wikitable' in table.attrs.get('class'):\n",
      "        if table.find('th').text == 'Country or territory':\n",
      "            population_tables.append(table)"
     ],
     "language": "python",
     "metadata": {},
     "outputs": []
    },
    {
     "cell_type": "code",
     "collapsed": false,
     "input": [
      "# Examine Soup\n",
      "# soup\n",
      "def get_table_data(table):\n",
      "    column_names = []\n",
      "    col_indexes = []\n",
      "    table_head = table.find_all('th')\n",
      "    for idx, col_name in enumerate(table_head):\n",
      "        if col_name.text != '%':\n",
      "            col_indexes.append(idx)\n",
      "            column_names.append(col_name.text)\n",
      "    print(column_names)\n",
      "\n",
      "    rows_data = []\n",
      "    table_row = table.find_all('tr')\n",
      "    for idx, row_td in enumerate(table_row):\n",
      "        row = []\n",
      "        for col_idx, col_val in enumerate(row_td.find_all('td')):\n",
      "            if col_idx in col_indexes:\n",
      "                if col_idx == 0:\n",
      "                    row.append(col_val.text[1:])\n",
      "                else:\n",
      "                    row.append(int(col_val.text.replace(',', '')))\n",
      "        if row:\n",
      "            rows_data.append(row)\n",
      "    return column_names, rows_data"
     ],
     "language": "python",
     "metadata": {},
     "outputs": []
    },
    {
     "cell_type": "code",
     "collapsed": false,
     "input": [
      "def get_population_df(population_tables):\n",
      "    population_df = None\n",
      "    for table in population_tables:\n",
      "        columns, rows = get_table_data(table)\n",
      "        table_df = pd.DataFrame(rows, columns=columns)\n",
      "        table_df = table_df.set_index(['Country or territory'])\n",
      "        if population_df is None:\n",
      "            population_df = table_df\n",
      "        else:\n",
      "            population_df = population_df.join(table_df, how='outer')\n",
      "    return population_df"
     ],
     "language": "python",
     "metadata": {},
     "outputs": []
    },
    {
     "cell_type": "code",
     "collapsed": false,
     "input": [
      "population_df = get_population_df(population_tables)"
     ],
     "language": "python",
     "metadata": {},
     "outputs": []
    },
    {
     "cell_type": "code",
     "collapsed": false,
     "input": [
      "population_df = population_df.applymap(np.int32)"
     ],
     "language": "python",
     "metadata": {},
     "outputs": []
    },
    {
     "cell_type": "code",
     "collapsed": false,
     "input": [
      "population_df.info()"
     ],
     "language": "python",
     "metadata": {},
     "outputs": []
    },
    {
     "cell_type": "code",
     "collapsed": false,
     "input": [
      "population_df.head(2)"
     ],
     "language": "python",
     "metadata": {},
     "outputs": []
    },
    {
     "cell_type": "code",
     "collapsed": false,
     "input": [
      "population_df.loc['United States'].plot()"
     ],
     "language": "python",
     "metadata": {},
     "outputs": []
    },
    {
     "cell_type": "code",
     "collapsed": false,
     "input": [
      "population_df.loc['Germany'].plot(ylim=(0, 100000))"
     ],
     "language": "python",
     "metadata": {},
     "outputs": []
    },
    {
     "cell_type": "code",
     "collapsed": false,
     "input": [
      "pop_rows_df = population_df.unstack().reset_index()"
     ],
     "language": "python",
     "metadata": {},
     "outputs": []
    },
    {
     "cell_type": "code",
     "collapsed": false,
     "input": [
      "pop_rows_df.columns = ['year', 'country', 'population']"
     ],
     "language": "python",
     "metadata": {},
     "outputs": []
    },
    {
     "cell_type": "code",
     "collapsed": false,
     "input": [
      "pop_rows_df.head(5)"
     ],
     "language": "python",
     "metadata": {},
     "outputs": []
    },
    {
     "cell_type": "code",
     "collapsed": false,
     "input": [
      "# Total Population of the world Today\n",
      "pop_afganisthan = pop_rows_df[pop_rows_df.country == 'Afghanistan']"
     ],
     "language": "python",
     "metadata": {},
     "outputs": []
    },
    {
     "cell_type": "code",
     "collapsed": false,
     "input": [
      "pop_afganisthan = pop_afganisthan.set_index('year')"
     ],
     "language": "python",
     "metadata": {},
     "outputs": []
    },
    {
     "cell_type": "code",
     "collapsed": false,
     "input": [],
     "language": "python",
     "metadata": {},
     "outputs": []
    }
   ],
   "metadata": {}
  }
 ]
}