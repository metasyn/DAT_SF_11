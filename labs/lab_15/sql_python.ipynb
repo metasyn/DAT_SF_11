{
 "metadata": {
  "name": "",
  "signature": "sha256:7bc2d2e16e8580765168c68ae78abfb23324028e6f18b847cd3f33b5b1a267d8"
 },
 "nbformat": 3,
 "nbformat_minor": 0,
 "worksheets": [
  {
   "cells": [
    {
     "cell_type": "markdown",
     "metadata": {},
     "source": [
      "## SQL & Python\n",
      "\n",
      "Adopted from Notebook created by - [Alessandro D. Gagliardi](https://github.com/eklypse)"
     ]
    },
    {
     "cell_type": "code",
     "collapsed": false,
     "input": [
      "import numpy as np\n",
      "import matplotlib.pyplot as plt\n",
      "import pandas as pd\n",
      "\n",
      "import sqlite3\n",
      "\n",
      "%matplotlib inline"
     ],
     "language": "python",
     "metadata": {},
     "outputs": [],
     "prompt_number": 19
    },
    {
     "cell_type": "markdown",
     "metadata": {},
     "source": [
      "---"
     ]
    },
    {
     "cell_type": "markdown",
     "metadata": {},
     "source": [
      "Enron\n",
      "=====\n",
      "\n",
      "<img src=\"http://upload.wikimedia.org/wikipedia/en/thumb/9/9a/Enron_Logo.svg/150px-Enron_Logo.svg.png\" />"
     ]
    },
    {
     "cell_type": "markdown",
     "metadata": {},
     "source": [
      "`conda install pip`  \n",
      "\n",
      "`pip install ipython-sql`  \n",
      "**for sql magic**"
     ]
    },
    {
     "cell_type": "code",
     "collapsed": false,
     "input": [
      "%load_ext sql"
     ],
     "language": "python",
     "metadata": {},
     "outputs": [
      {
       "output_type": "stream",
       "stream": "stdout",
       "text": [
        "The sql extension is already loaded. To reload it, use:\n",
        "  %reload_ext sql\n"
       ]
      }
     ],
     "prompt_number": 18
    },
    {
     "cell_type": "code",
     "collapsed": false,
     "input": [
      "%%bash\n",
      "sqlite3 ../data/enron.db .tables"
     ],
     "language": "python",
     "metadata": {},
     "outputs": [
      {
       "output_type": "stream",
       "stream": "stdout",
       "text": [
        "Employee          EmployeeWithVars  MessageBase       RecipientBase   \n",
        "EmployeeBase      Message           Recipient       \n"
       ]
      }
     ],
     "prompt_number": 5
    },
    {
     "cell_type": "markdown",
     "metadata": {},
     "source": [
      "We only care about the `*Base` tables:\n",
      "\n",
      "- EmployeeBase\n",
      "- MessageBase\n",
      "- RecipientBase\n",
      "\n",
      "(The other tables are derived from those. We don't need them for this exercise.)"
     ]
    },
    {
     "cell_type": "code",
     "collapsed": false,
     "input": [
      "%%sql sqlite:///../data/enron.db\n",
      "SELECT * FROM EmployeeBase LIMIT 5;"
     ],
     "language": "python",
     "metadata": {},
     "outputs": [
      {
       "output_type": "stream",
       "stream": "stdout",
       "text": [
        "Done.\n"
       ]
      },
      {
       "html": [
        "<table>\n",
        "    <tr>\n",
        "        <th>eid</th>\n",
        "        <th>name</th>\n",
        "        <th>department</th>\n",
        "        <th>longdepartment</th>\n",
        "        <th>title</th>\n",
        "        <th>gender</th>\n",
        "        <th>seniority</th>\n",
        "    </tr>\n",
        "    <tr>\n",
        "        <td>1</td>\n",
        "        <td>John Arnold</td>\n",
        "        <td>Trading</td>\n",
        "        <td>ENA Gas Financial</td>\n",
        "        <td>VP Trading</td>\n",
        "        <td>Male</td>\n",
        "        <td>Senior</td>\n",
        "    </tr>\n",
        "    <tr>\n",
        "        <td>2</td>\n",
        "        <td>Harry Arora</td>\n",
        "        <td>Trading</td>\n",
        "        <td>ENA East Power</td>\n",
        "        <td>VP Trading</td>\n",
        "        <td>Male</td>\n",
        "        <td>Senior</td>\n",
        "    </tr>\n",
        "    <tr>\n",
        "        <td>3</td>\n",
        "        <td>Robert Badeer</td>\n",
        "        <td>Trading</td>\n",
        "        <td>ENA West Power</td>\n",
        "        <td>Mgr Trading</td>\n",
        "        <td>Male</td>\n",
        "        <td>Junior</td>\n",
        "    </tr>\n",
        "    <tr>\n",
        "        <td>4</td>\n",
        "        <td>Susan Bailey</td>\n",
        "        <td>Legal</td>\n",
        "        <td>ENA Legal</td>\n",
        "        <td>Specialist Legal</td>\n",
        "        <td>Female</td>\n",
        "        <td>Junior</td>\n",
        "    </tr>\n",
        "    <tr>\n",
        "        <td>5</td>\n",
        "        <td>Eric Bass</td>\n",
        "        <td>Trading</td>\n",
        "        <td>ENA Gas Texas</td>\n",
        "        <td>Trader</td>\n",
        "        <td>Male</td>\n",
        "        <td>Junior</td>\n",
        "    </tr>\n",
        "</table>"
       ],
       "metadata": {},
       "output_type": "pyout",
       "prompt_number": 17,
       "text": [
        "[(1, u'John Arnold', u'Trading', u'ENA Gas Financial', u'VP Trading', u'Male', u'Senior'),\n",
        " (2, u'Harry Arora', u'Trading', u'ENA East Power', u'VP Trading', u'Male', u'Senior'),\n",
        " (3, u'Robert Badeer', u'Trading', u'ENA West Power', u'Mgr Trading', u'Male', u'Junior'),\n",
        " (4, u'Susan Bailey', u'Legal', u'ENA Legal', u'Specialist Legal', u'Female', u'Junior'),\n",
        " (5, u'Eric Bass', u'Trading', u'ENA Gas Texas', u'Trader', u'Male', u'Junior')]"
       ]
      }
     ],
     "prompt_number": 17
    },
    {
     "cell_type": "code",
     "collapsed": false,
     "input": [
      "%%sql sqlite:///../data/enron.db\n",
      "SELECT * FROM MessageBase LIMIT 5;"
     ],
     "language": "python",
     "metadata": {},
     "outputs": [
      {
       "output_type": "stream",
       "stream": "stdout",
       "text": [
        "Done.\n"
       ]
      },
      {
       "html": [
        "<table>\n",
        "    <tr>\n",
        "        <th>mid</th>\n",
        "        <th>filename</th>\n",
        "        <th>unix_time</th>\n",
        "        <th>subject</th>\n",
        "        <th>from_eid</th>\n",
        "    </tr>\n",
        "    <tr>\n",
        "        <td>1</td>\n",
        "        <td>taylor-m/sent/11</td>\n",
        "        <td>910930020</td>\n",
        "        <td>Cd$ CME letter</td>\n",
        "        <td>138</td>\n",
        "    </tr>\n",
        "    <tr>\n",
        "        <td>2</td>\n",
        "        <td>taylor-m/sent/17</td>\n",
        "        <td>911459940</td>\n",
        "        <td>Indemnification</td>\n",
        "        <td>138</td>\n",
        "    </tr>\n",
        "    <tr>\n",
        "        <td>3</td>\n",
        "        <td>taylor-m/sent/18</td>\n",
        "        <td>911463840</td>\n",
        "        <td>Re: Indemnification</td>\n",
        "        <td>138</td>\n",
        "    </tr>\n",
        "    <tr>\n",
        "        <td>4</td>\n",
        "        <td>taylor-m/sent/23</td>\n",
        "        <td>911874180</td>\n",
        "        <td>Re: Coral Energy, L.P.</td>\n",
        "        <td>138</td>\n",
        "    </tr>\n",
        "    <tr>\n",
        "        <td>5</td>\n",
        "        <td>taylor-m/sent/27</td>\n",
        "        <td>912396120</td>\n",
        "        <td>Bankruptcy Code revisions</td>\n",
        "        <td>138</td>\n",
        "    </tr>\n",
        "</table>"
       ],
       "metadata": {},
       "output_type": "pyout",
       "prompt_number": 7,
       "text": [
        "[(1, u'taylor-m/sent/11', 910930020, u'Cd$ CME letter', 138),\n",
        " (2, u'taylor-m/sent/17', 911459940, u'Indemnification', 138),\n",
        " (3, u'taylor-m/sent/18', 911463840, u'Re: Indemnification', 138),\n",
        " (4, u'taylor-m/sent/23', 911874180, u'Re: Coral Energy, L.P.', 138),\n",
        " (5, u'taylor-m/sent/27', 912396120, u'Bankruptcy Code revisions', 138)]"
       ]
      }
     ],
     "prompt_number": 7
    },
    {
     "cell_type": "markdown",
     "metadata": {},
     "source": [
      "What about the last 5 messages?"
     ]
    },
    {
     "cell_type": "code",
     "collapsed": false,
     "input": [
      "%%sql sqlite:///../data/enron.db\n",
      "SELECT * FROM MessageBase ORDER BY unix_time DESC LIMIT 5"
     ],
     "language": "python",
     "metadata": {},
     "outputs": [
      {
       "output_type": "stream",
       "stream": "stdout",
       "text": [
        "Done.\n"
       ]
      },
      {
       "html": [
        "<table>\n",
        "    <tr>\n",
        "        <th>mid</th>\n",
        "        <th>filename</th>\n",
        "        <th>unix_time</th>\n",
        "        <th>subject</th>\n",
        "        <th>from_eid</th>\n",
        "    </tr>\n",
        "    <tr>\n",
        "        <td>21635</td>\n",
        "        <td>germany-c/inbox/23</td>\n",
        "        <td>1024666654</td>\n",
        "        <td>Master Termination Log</td>\n",
        "        <td>92</td>\n",
        "    </tr>\n",
        "    <tr>\n",
        "        <td>21634</td>\n",
        "        <td>germany-c/inbox/42</td>\n",
        "        <td>1023970571</td>\n",
        "        <td>Netting Agreement Materials</td>\n",
        "        <td>4</td>\n",
        "    </tr>\n",
        "    <tr>\n",
        "        <td>21633</td>\n",
        "        <td>germany-c/personal/1</td>\n",
        "        <td>1023873696</td>\n",
        "        <td>RE: Job Ops</td>\n",
        "        <td>57</td>\n",
        "    </tr>\n",
        "    <tr>\n",
        "        <td>21632</td>\n",
        "        <td>germany-c/sent_items/74</td>\n",
        "        <td>1023873633</td>\n",
        "        <td>Job Ops</td>\n",
        "        <td>39</td>\n",
        "    </tr>\n",
        "    <tr>\n",
        "        <td>21631</td>\n",
        "        <td>germany-c/inbox/49</td>\n",
        "        <td>1023708531</td>\n",
        "        <td>NNG Deals</td>\n",
        "        <td>39</td>\n",
        "    </tr>\n",
        "</table>"
       ],
       "metadata": {},
       "output_type": "pyout",
       "prompt_number": 8,
       "text": [
        "[(21635, u'germany-c/inbox/23', 1024666654, u'Master Termination Log', 92),\n",
        " (21634, u'germany-c/inbox/42', 1023970571, u'Netting Agreement Materials', 4),\n",
        " (21633, u'germany-c/personal/1', 1023873696, u'RE: Job Ops', 57),\n",
        " (21632, u'germany-c/sent_items/74', 1023873633, u'Job Ops', 39),\n",
        " (21631, u'germany-c/inbox/49', 1023708531, u'NNG Deals', 39)]"
       ]
      }
     ],
     "prompt_number": 8
    },
    {
     "cell_type": "markdown",
     "metadata": {},
     "source": [
      "`from_eid` looks like a foreign key"
     ]
    },
    {
     "cell_type": "code",
     "collapsed": false,
     "input": [
      "%%sql sqlite:///../data/enron.db\n",
      "SELECT unix_time, name, department, title, gender, seniority, subject, filename \n",
      "FROM EmployeeBase JOIN MessageBase ON eid = from_eid LIMIT 5;"
     ],
     "language": "python",
     "metadata": {},
     "outputs": [
      {
       "output_type": "stream",
       "stream": "stdout",
       "text": [
        "Done.\n"
       ]
      },
      {
       "html": [
        "<table>\n",
        "    <tr>\n",
        "        <th>unix_time</th>\n",
        "        <th>name</th>\n",
        "        <th>department</th>\n",
        "        <th>title</th>\n",
        "        <th>gender</th>\n",
        "        <th>seniority</th>\n",
        "        <th>subject</th>\n",
        "        <th>filename</th>\n",
        "    </tr>\n",
        "    <tr>\n",
        "        <td>910930020</td>\n",
        "        <td>Mark E. Taylor</td>\n",
        "        <td>Legal</td>\n",
        "        <td>VP &amp; Gen Cnsl</td>\n",
        "        <td>Male</td>\n",
        "        <td>Senior</td>\n",
        "        <td>Cd$ CME letter</td>\n",
        "        <td>taylor-m/sent/11</td>\n",
        "    </tr>\n",
        "    <tr>\n",
        "        <td>911459940</td>\n",
        "        <td>Mark E. Taylor</td>\n",
        "        <td>Legal</td>\n",
        "        <td>VP &amp; Gen Cnsl</td>\n",
        "        <td>Male</td>\n",
        "        <td>Senior</td>\n",
        "        <td>Indemnification</td>\n",
        "        <td>taylor-m/sent/17</td>\n",
        "    </tr>\n",
        "    <tr>\n",
        "        <td>911463840</td>\n",
        "        <td>Mark E. Taylor</td>\n",
        "        <td>Legal</td>\n",
        "        <td>VP &amp; Gen Cnsl</td>\n",
        "        <td>Male</td>\n",
        "        <td>Senior</td>\n",
        "        <td>Re: Indemnification</td>\n",
        "        <td>taylor-m/sent/18</td>\n",
        "    </tr>\n",
        "    <tr>\n",
        "        <td>911874180</td>\n",
        "        <td>Mark E. Taylor</td>\n",
        "        <td>Legal</td>\n",
        "        <td>VP &amp; Gen Cnsl</td>\n",
        "        <td>Male</td>\n",
        "        <td>Senior</td>\n",
        "        <td>Re: Coral Energy, L.P.</td>\n",
        "        <td>taylor-m/sent/23</td>\n",
        "    </tr>\n",
        "    <tr>\n",
        "        <td>912396120</td>\n",
        "        <td>Mark E. Taylor</td>\n",
        "        <td>Legal</td>\n",
        "        <td>VP &amp; Gen Cnsl</td>\n",
        "        <td>Male</td>\n",
        "        <td>Senior</td>\n",
        "        <td>Bankruptcy Code revisions</td>\n",
        "        <td>taylor-m/sent/27</td>\n",
        "    </tr>\n",
        "</table>"
       ],
       "metadata": {},
       "output_type": "pyout",
       "prompt_number": 9,
       "text": [
        "[(910930020, u'Mark E. Taylor', u'Legal', u'VP & Gen Cnsl', u'Male', u'Senior', u'Cd$ CME letter', u'taylor-m/sent/11'),\n",
        " (911459940, u'Mark E. Taylor', u'Legal', u'VP & Gen Cnsl', u'Male', u'Senior', u'Indemnification', u'taylor-m/sent/17'),\n",
        " (911463840, u'Mark E. Taylor', u'Legal', u'VP & Gen Cnsl', u'Male', u'Senior', u'Re: Indemnification', u'taylor-m/sent/18'),\n",
        " (911874180, u'Mark E. Taylor', u'Legal', u'VP & Gen Cnsl', u'Male', u'Senior', u'Re: Coral Energy, L.P.', u'taylor-m/sent/23'),\n",
        " (912396120, u'Mark E. Taylor', u'Legal', u'VP & Gen Cnsl', u'Male', u'Senior', u'Bankruptcy Code revisions', u'taylor-m/sent/27')]"
       ]
      }
     ],
     "prompt_number": 9
    },
    {
     "cell_type": "markdown",
     "metadata": {},
     "source": [
      "Finally, `RecipientBase`:"
     ]
    },
    {
     "cell_type": "code",
     "collapsed": false,
     "input": [
      "%%sql sqlite:///../data/enron.db\n",
      "SELECT * FROM RecipientBase LIMIT 9"
     ],
     "language": "python",
     "metadata": {},
     "outputs": [
      {
       "output_type": "stream",
       "stream": "stdout",
       "text": [
        "Done.\n"
       ]
      },
      {
       "html": [
        "<table>\n",
        "    <tr>\n",
        "        <th>mid</th>\n",
        "        <th>rno</th>\n",
        "        <th>to_eid</th>\n",
        "    </tr>\n",
        "    <tr>\n",
        "        <td>1</td>\n",
        "        <td>1</td>\n",
        "        <td>59</td>\n",
        "    </tr>\n",
        "    <tr>\n",
        "        <td>2</td>\n",
        "        <td>1</td>\n",
        "        <td>15</td>\n",
        "    </tr>\n",
        "    <tr>\n",
        "        <td>3</td>\n",
        "        <td>1</td>\n",
        "        <td>15</td>\n",
        "    </tr>\n",
        "    <tr>\n",
        "        <td>4</td>\n",
        "        <td>1</td>\n",
        "        <td>109</td>\n",
        "    </tr>\n",
        "    <tr>\n",
        "        <td>4</td>\n",
        "        <td>2</td>\n",
        "        <td>49</td>\n",
        "    </tr>\n",
        "    <tr>\n",
        "        <td>4</td>\n",
        "        <td>3</td>\n",
        "        <td>120</td>\n",
        "    </tr>\n",
        "    <tr>\n",
        "        <td>4</td>\n",
        "        <td>4</td>\n",
        "        <td>59</td>\n",
        "    </tr>\n",
        "    <tr>\n",
        "        <td>5</td>\n",
        "        <td>1</td>\n",
        "        <td>45</td>\n",
        "    </tr>\n",
        "    <tr>\n",
        "        <td>5</td>\n",
        "        <td>2</td>\n",
        "        <td>53</td>\n",
        "    </tr>\n",
        "</table>"
       ],
       "metadata": {},
       "output_type": "pyout",
       "prompt_number": 10,
       "text": [
        "[(1, 1, 59),\n",
        " (2, 1, 15),\n",
        " (3, 1, 15),\n",
        " (4, 1, 109),\n",
        " (4, 2, 49),\n",
        " (4, 3, 120),\n",
        " (4, 4, 59),\n",
        " (5, 1, 45),\n",
        " (5, 2, 53)]"
       ]
      }
     ],
     "prompt_number": 10
    },
    {
     "cell_type": "markdown",
     "metadata": {},
     "source": [
      "It looks like we can use this to determine how many recipients each message received  \n",
      "i.e. `MAX(rno)`"
     ]
    },
    {
     "cell_type": "code",
     "collapsed": false,
     "input": [
      "%%sql sqlite:///../data/enron.db\n",
      "SELECT * FROM RecipientBase WHERE rno = 57"
     ],
     "language": "python",
     "metadata": {},
     "outputs": [
      {
       "output_type": "stream",
       "stream": "stdout",
       "text": [
        "Done.\n"
       ]
      },
      {
       "html": [
        "<table>\n",
        "    <tr>\n",
        "        <th>mid</th>\n",
        "        <th>rno</th>\n",
        "        <th>to_eid</th>\n",
        "    </tr>\n",
        "    <tr>\n",
        "        <td>12116</td>\n",
        "        <td>57</td>\n",
        "        <td>51</td>\n",
        "    </tr>\n",
        "    <tr>\n",
        "        <td>12151</td>\n",
        "        <td>57</td>\n",
        "        <td>51</td>\n",
        "    </tr>\n",
        "</table>"
       ],
       "metadata": {},
       "output_type": "pyout",
       "prompt_number": 11,
       "text": [
        "[(12116, 57, 51), (12151, 57, 51)]"
       ]
      }
     ],
     "prompt_number": 11
    },
    {
     "cell_type": "code",
     "collapsed": false,
     "input": [
      "%%sql sqlite:///../data/enron.db\n",
      "SELECT * FROM MessageBase WHERE mid IN (12116, 12151)"
     ],
     "language": "python",
     "metadata": {},
     "outputs": [
      {
       "output_type": "stream",
       "stream": "stdout",
       "text": [
        "Done.\n"
       ]
      },
      {
       "html": [
        "<table>\n",
        "    <tr>\n",
        "        <th>mid</th>\n",
        "        <th>filename</th>\n",
        "        <th>unix_time</th>\n",
        "        <th>subject</th>\n",
        "        <th>from_eid</th>\n",
        "    </tr>\n",
        "    <tr>\n",
        "        <td>12116</td>\n",
        "        <td>baughman-d/all_documents/398</td>\n",
        "        <td>990510780</td>\n",
        "        <td></td>\n",
        "        <td>67</td>\n",
        "    </tr>\n",
        "    <tr>\n",
        "        <td>12151</td>\n",
        "        <td>baughman-d/ect_admin/22</td>\n",
        "        <td>990546780</td>\n",
        "        <td></td>\n",
        "        <td>67</td>\n",
        "    </tr>\n",
        "</table>"
       ],
       "metadata": {},
       "output_type": "pyout",
       "prompt_number": 12,
       "text": [
        "[(12116, u'baughman-d/all_documents/398', 990510780, u'', 67),\n",
        " (12151, u'baughman-d/ect_admin/22', 990546780, u'', 67)]"
       ]
      }
     ],
     "prompt_number": 12
    },
    {
     "cell_type": "code",
     "collapsed": false,
     "input": [
      "%%sql sqlite:///../data/enron.db\n",
      "SELECT * FROM EmployeeBase WHERE eid=67"
     ],
     "language": "python",
     "metadata": {},
     "outputs": [
      {
       "output_type": "stream",
       "stream": "stdout",
       "text": [
        "Done.\n"
       ]
      },
      {
       "html": [
        "<table>\n",
        "    <tr>\n",
        "        <th>eid</th>\n",
        "        <th>name</th>\n",
        "        <th>department</th>\n",
        "        <th>longdepartment</th>\n",
        "        <th>title</th>\n",
        "        <th>gender</th>\n",
        "        <th>seniority</th>\n",
        "    </tr>\n",
        "    <tr>\n",
        "        <td>67</td>\n",
        "        <td>John J. Lavorato</td>\n",
        "        <td>Other</td>\n",
        "        <td>EWS</td>\n",
        "        <td>ENA President &amp; CEO</td>\n",
        "        <td>Male</td>\n",
        "        <td>Senior</td>\n",
        "    </tr>\n",
        "</table>"
       ],
       "metadata": {},
       "output_type": "pyout",
       "prompt_number": 13,
       "text": [
        "[(67, u'John J. Lavorato', u'Other', u'EWS', u'ENA President & CEO', u'Male', u'Senior')]"
       ]
      }
     ],
     "prompt_number": 13
    },
    {
     "cell_type": "markdown",
     "metadata": {},
     "source": [
      "Who sent the email to the most recipients?"
     ]
    },
    {
     "cell_type": "code",
     "collapsed": false,
     "input": [
      "%%sql sqlite:///../data/enron.db\n",
      "SELECT name, title, MAX(rno)\n",
      "FROM EmployeeBase \n",
      "JOIN MessageBase ON eid = from_eid \n",
      "JOIN RecipientBase USING(mid)"
     ],
     "language": "python",
     "metadata": {},
     "outputs": [
      {
       "output_type": "stream",
       "stream": "stdout",
       "text": [
        "Done.\n"
       ]
      },
      {
       "html": [
        "<table>\n",
        "    <tr>\n",
        "        <th>name</th>\n",
        "        <th>title</th>\n",
        "        <th>MAX(rno)</th>\n",
        "    </tr>\n",
        "    <tr>\n",
        "        <td>John J. Lavorato</td>\n",
        "        <td>ENA President &amp; CEO</td>\n",
        "        <td>57</td>\n",
        "    </tr>\n",
        "</table>"
       ],
       "metadata": {},
       "output_type": "pyout",
       "prompt_number": 14,
       "text": [
        "[(u'John J. Lavorato', u'ENA President & CEO', 57)]"
       ]
      }
     ],
     "prompt_number": 14
    },
    {
     "cell_type": "markdown",
     "metadata": {},
     "source": [
      "In Pairs:\n",
      "---------\n",
      "1. Who are the top five senders of mass email?\n",
      "2. Who sent the last email?\n",
      "3. Who received the last email?\n",
      "4. Who didn't send any email?\n",
      "5. Who didn't receive any email?"
     ]
    },
    {
     "cell_type": "markdown",
     "metadata": {},
     "source": [
      "---"
     ]
    },
    {
     "cell_type": "markdown",
     "metadata": {},
     "source": [
      "## Now, we will use Python SQL Drivers"
     ]
    },
    {
     "cell_type": "code",
     "collapsed": false,
     "input": [
      "conn = sqlite3.connect('../data/enron.db')"
     ],
     "language": "python",
     "metadata": {},
     "outputs": [],
     "prompt_number": 26
    },
    {
     "cell_type": "code",
     "collapsed": false,
     "input": [
      "pd.read_sql(\"\"\"SELECT mid, unix_time, subject, from_eid\n",
      "                FROM MessageBase ORDER BY unix_time DESC\n",
      "                LIMIT 5\"\"\", conn, \"mid\")"
     ],
     "language": "python",
     "metadata": {},
     "outputs": [
      {
       "html": [
        "<div style=\"max-height:1000px;max-width:1500px;overflow:auto;\">\n",
        "<table border=\"1\" class=\"dataframe\">\n",
        "  <thead>\n",
        "    <tr style=\"text-align: right;\">\n",
        "      <th></th>\n",
        "      <th>unix_time</th>\n",
        "      <th>subject</th>\n",
        "      <th>from_eid</th>\n",
        "    </tr>\n",
        "    <tr>\n",
        "      <th>mid</th>\n",
        "      <th></th>\n",
        "      <th></th>\n",
        "      <th></th>\n",
        "    </tr>\n",
        "  </thead>\n",
        "  <tbody>\n",
        "    <tr>\n",
        "      <th>21635</th>\n",
        "      <td> 1024666654</td>\n",
        "      <td>      Master Termination Log</td>\n",
        "      <td> 92</td>\n",
        "    </tr>\n",
        "    <tr>\n",
        "      <th>21634</th>\n",
        "      <td> 1023970571</td>\n",
        "      <td> Netting Agreement Materials</td>\n",
        "      <td>  4</td>\n",
        "    </tr>\n",
        "    <tr>\n",
        "      <th>21633</th>\n",
        "      <td> 1023873696</td>\n",
        "      <td>                 RE: Job Ops</td>\n",
        "      <td> 57</td>\n",
        "    </tr>\n",
        "    <tr>\n",
        "      <th>21632</th>\n",
        "      <td> 1023873633</td>\n",
        "      <td>                     Job Ops</td>\n",
        "      <td> 39</td>\n",
        "    </tr>\n",
        "    <tr>\n",
        "      <th>21631</th>\n",
        "      <td> 1023708531</td>\n",
        "      <td>                   NNG Deals</td>\n",
        "      <td> 39</td>\n",
        "    </tr>\n",
        "  </tbody>\n",
        "</table>\n",
        "</div>"
       ],
       "metadata": {},
       "output_type": "pyout",
       "prompt_number": 27,
       "text": [
        "        unix_time                      subject  from_eid\n",
        "mid                                                     \n",
        "21635  1024666654       Master Termination Log        92\n",
        "21634  1023970571  Netting Agreement Materials         4\n",
        "21633  1023873696                  RE: Job Ops        57\n",
        "21632  1023873633                      Job Ops        39\n",
        "21631  1023708531                    NNG Deals        39"
       ]
      }
     ],
     "prompt_number": 27
    },
    {
     "cell_type": "code",
     "collapsed": false,
     "input": [
      "MessageBase = pd.read_sql(\"\"\"SELECT mid, unix_time, subject, from_eid \n",
      "                FROM MessageBase\"\"\", conn, \"mid\")\n",
      "MessageBase.sort(ascending=False, columns=['unix_time']).head()"
     ],
     "language": "python",
     "metadata": {},
     "outputs": [
      {
       "html": [
        "<div style=\"max-height:1000px;max-width:1500px;overflow:auto;\">\n",
        "<table border=\"1\" class=\"dataframe\">\n",
        "  <thead>\n",
        "    <tr style=\"text-align: right;\">\n",
        "      <th></th>\n",
        "      <th>unix_time</th>\n",
        "      <th>subject</th>\n",
        "      <th>from_eid</th>\n",
        "    </tr>\n",
        "    <tr>\n",
        "      <th>mid</th>\n",
        "      <th></th>\n",
        "      <th></th>\n",
        "      <th></th>\n",
        "    </tr>\n",
        "  </thead>\n",
        "  <tbody>\n",
        "    <tr>\n",
        "      <th>21635</th>\n",
        "      <td> 1024666654</td>\n",
        "      <td>      Master Termination Log</td>\n",
        "      <td> 92</td>\n",
        "    </tr>\n",
        "    <tr>\n",
        "      <th>21634</th>\n",
        "      <td> 1023970571</td>\n",
        "      <td> Netting Agreement Materials</td>\n",
        "      <td>  4</td>\n",
        "    </tr>\n",
        "    <tr>\n",
        "      <th>21633</th>\n",
        "      <td> 1023873696</td>\n",
        "      <td>                 RE: Job Ops</td>\n",
        "      <td> 57</td>\n",
        "    </tr>\n",
        "    <tr>\n",
        "      <th>21632</th>\n",
        "      <td> 1023873633</td>\n",
        "      <td>                     Job Ops</td>\n",
        "      <td> 39</td>\n",
        "    </tr>\n",
        "    <tr>\n",
        "      <th>21631</th>\n",
        "      <td> 1023708531</td>\n",
        "      <td>                   NNG Deals</td>\n",
        "      <td> 39</td>\n",
        "    </tr>\n",
        "  </tbody>\n",
        "</table>\n",
        "</div>"
       ],
       "metadata": {},
       "output_type": "pyout",
       "prompt_number": 28,
       "text": [
        "        unix_time                      subject  from_eid\n",
        "mid                                                     \n",
        "21635  1024666654       Master Termination Log        92\n",
        "21634  1023970571  Netting Agreement Materials         4\n",
        "21633  1023873696                  RE: Job Ops        57\n",
        "21632  1023873633                      Job Ops        39\n",
        "21631  1023708531                    NNG Deals        39"
       ]
      }
     ],
     "prompt_number": 28
    },
    {
     "cell_type": "markdown",
     "metadata": {},
     "source": [
      "SQL JOIN (with USING):"
     ]
    },
    {
     "cell_type": "code",
     "collapsed": false,
     "input": [
      "pd.read_sql(\"\"\"SELECT mid, unix_time, subject, from_eid, rno, to_eid \n",
      "                FROM MessageBase JOIN RecipientBase USING (mid) LIMIT 5\"\"\", conn, \"mid\")"
     ],
     "language": "python",
     "metadata": {},
     "outputs": [
      {
       "html": [
        "<div style=\"max-height:1000px;max-width:1500px;overflow:auto;\">\n",
        "<table border=\"1\" class=\"dataframe\">\n",
        "  <thead>\n",
        "    <tr style=\"text-align: right;\">\n",
        "      <th></th>\n",
        "      <th>unix_time</th>\n",
        "      <th>subject</th>\n",
        "      <th>from_eid</th>\n",
        "      <th>rno</th>\n",
        "      <th>to_eid</th>\n",
        "    </tr>\n",
        "    <tr>\n",
        "      <th>mid</th>\n",
        "      <th></th>\n",
        "      <th></th>\n",
        "      <th></th>\n",
        "      <th></th>\n",
        "      <th></th>\n",
        "    </tr>\n",
        "  </thead>\n",
        "  <tbody>\n",
        "    <tr>\n",
        "      <th>1</th>\n",
        "      <td> 910930020</td>\n",
        "      <td>         Cd$ CME letter</td>\n",
        "      <td> 138</td>\n",
        "      <td> 1</td>\n",
        "      <td>  59</td>\n",
        "    </tr>\n",
        "    <tr>\n",
        "      <th>2</th>\n",
        "      <td> 911459940</td>\n",
        "      <td>        Indemnification</td>\n",
        "      <td> 138</td>\n",
        "      <td> 1</td>\n",
        "      <td>  15</td>\n",
        "    </tr>\n",
        "    <tr>\n",
        "      <th>3</th>\n",
        "      <td> 911463840</td>\n",
        "      <td>    Re: Indemnification</td>\n",
        "      <td> 138</td>\n",
        "      <td> 1</td>\n",
        "      <td>  15</td>\n",
        "    </tr>\n",
        "    <tr>\n",
        "      <th>4</th>\n",
        "      <td> 911874180</td>\n",
        "      <td> Re: Coral Energy, L.P.</td>\n",
        "      <td> 138</td>\n",
        "      <td> 1</td>\n",
        "      <td> 109</td>\n",
        "    </tr>\n",
        "    <tr>\n",
        "      <th>4</th>\n",
        "      <td> 911874180</td>\n",
        "      <td> Re: Coral Energy, L.P.</td>\n",
        "      <td> 138</td>\n",
        "      <td> 2</td>\n",
        "      <td>  49</td>\n",
        "    </tr>\n",
        "  </tbody>\n",
        "</table>\n",
        "</div>"
       ],
       "metadata": {},
       "output_type": "pyout",
       "prompt_number": 29,
       "text": [
        "     unix_time                 subject  from_eid  rno  to_eid\n",
        "mid                                                          \n",
        "1    910930020          Cd$ CME letter       138    1      59\n",
        "2    911459940         Indemnification       138    1      15\n",
        "3    911463840     Re: Indemnification       138    1      15\n",
        "4    911874180  Re: Coral Energy, L.P.       138    1     109\n",
        "4    911874180  Re: Coral Energy, L.P.       138    2      49"
       ]
      }
     ],
     "prompt_number": 29
    },
    {
     "cell_type": "markdown",
     "metadata": {},
     "source": [
      "pandas.DataFrame.join"
     ]
    },
    {
     "cell_type": "code",
     "collapsed": false,
     "input": [
      "RecipientBase = pd.read_sql(\"SELECT * FROM RecipientBase\", conn, \"mid\")\n",
      "MessageBase.join(RecipientBase).head()"
     ],
     "language": "python",
     "metadata": {},
     "outputs": [
      {
       "html": [
        "<div style=\"max-height:1000px;max-width:1500px;overflow:auto;\">\n",
        "<table border=\"1\" class=\"dataframe\">\n",
        "  <thead>\n",
        "    <tr style=\"text-align: right;\">\n",
        "      <th></th>\n",
        "      <th>unix_time</th>\n",
        "      <th>subject</th>\n",
        "      <th>from_eid</th>\n",
        "      <th>rno</th>\n",
        "      <th>to_eid</th>\n",
        "    </tr>\n",
        "    <tr>\n",
        "      <th>mid</th>\n",
        "      <th></th>\n",
        "      <th></th>\n",
        "      <th></th>\n",
        "      <th></th>\n",
        "      <th></th>\n",
        "    </tr>\n",
        "  </thead>\n",
        "  <tbody>\n",
        "    <tr>\n",
        "      <th>1</th>\n",
        "      <td> 910930020</td>\n",
        "      <td>         Cd$ CME letter</td>\n",
        "      <td> 138</td>\n",
        "      <td> 1</td>\n",
        "      <td>  59</td>\n",
        "    </tr>\n",
        "    <tr>\n",
        "      <th>2</th>\n",
        "      <td> 911459940</td>\n",
        "      <td>        Indemnification</td>\n",
        "      <td> 138</td>\n",
        "      <td> 1</td>\n",
        "      <td>  15</td>\n",
        "    </tr>\n",
        "    <tr>\n",
        "      <th>3</th>\n",
        "      <td> 911463840</td>\n",
        "      <td>    Re: Indemnification</td>\n",
        "      <td> 138</td>\n",
        "      <td> 1</td>\n",
        "      <td>  15</td>\n",
        "    </tr>\n",
        "    <tr>\n",
        "      <th>4</th>\n",
        "      <td> 911874180</td>\n",
        "      <td> Re: Coral Energy, L.P.</td>\n",
        "      <td> 138</td>\n",
        "      <td> 1</td>\n",
        "      <td> 109</td>\n",
        "    </tr>\n",
        "    <tr>\n",
        "      <th>4</th>\n",
        "      <td> 911874180</td>\n",
        "      <td> Re: Coral Energy, L.P.</td>\n",
        "      <td> 138</td>\n",
        "      <td> 2</td>\n",
        "      <td>  49</td>\n",
        "    </tr>\n",
        "  </tbody>\n",
        "</table>\n",
        "</div>"
       ],
       "metadata": {},
       "output_type": "pyout",
       "prompt_number": 30,
       "text": [
        "     unix_time                 subject  from_eid  rno  to_eid\n",
        "mid                                                          \n",
        "1    910930020          Cd$ CME letter       138    1      59\n",
        "2    911459940         Indemnification       138    1      15\n",
        "3    911463840     Re: Indemnification       138    1      15\n",
        "4    911874180  Re: Coral Energy, L.P.       138    1     109\n",
        "4    911874180  Re: Coral Energy, L.P.       138    2      49"
       ]
      }
     ],
     "prompt_number": 30
    },
    {
     "cell_type": "markdown",
     "metadata": {},
     "source": [
      "SQL JOIN (with `ON`):"
     ]
    },
    {
     "cell_type": "code",
     "collapsed": false,
     "input": [
      "pd.read_sql(\"\"\"SELECT mid, unix_time, name,  \n",
      "                          title, seniority, subject \n",
      "                     FROM EmployeeBase \n",
      "                     JOIN MessageBase ON eid = from_eid \n",
      "                    LIMIT 5\"\"\", conn, \"mid\")"
     ],
     "language": "python",
     "metadata": {},
     "outputs": [
      {
       "html": [
        "<div style=\"max-height:1000px;max-width:1500px;overflow:auto;\">\n",
        "<table border=\"1\" class=\"dataframe\">\n",
        "  <thead>\n",
        "    <tr style=\"text-align: right;\">\n",
        "      <th></th>\n",
        "      <th>unix_time</th>\n",
        "      <th>name</th>\n",
        "      <th>title</th>\n",
        "      <th>seniority</th>\n",
        "      <th>subject</th>\n",
        "    </tr>\n",
        "    <tr>\n",
        "      <th>mid</th>\n",
        "      <th></th>\n",
        "      <th></th>\n",
        "      <th></th>\n",
        "      <th></th>\n",
        "      <th></th>\n",
        "    </tr>\n",
        "  </thead>\n",
        "  <tbody>\n",
        "    <tr>\n",
        "      <th>1</th>\n",
        "      <td> 910930020</td>\n",
        "      <td> Mark E. Taylor</td>\n",
        "      <td> VP &amp; Gen Cnsl</td>\n",
        "      <td> Senior</td>\n",
        "      <td>            Cd$ CME letter</td>\n",
        "    </tr>\n",
        "    <tr>\n",
        "      <th>2</th>\n",
        "      <td> 911459940</td>\n",
        "      <td> Mark E. Taylor</td>\n",
        "      <td> VP &amp; Gen Cnsl</td>\n",
        "      <td> Senior</td>\n",
        "      <td>           Indemnification</td>\n",
        "    </tr>\n",
        "    <tr>\n",
        "      <th>3</th>\n",
        "      <td> 911463840</td>\n",
        "      <td> Mark E. Taylor</td>\n",
        "      <td> VP &amp; Gen Cnsl</td>\n",
        "      <td> Senior</td>\n",
        "      <td>       Re: Indemnification</td>\n",
        "    </tr>\n",
        "    <tr>\n",
        "      <th>4</th>\n",
        "      <td> 911874180</td>\n",
        "      <td> Mark E. Taylor</td>\n",
        "      <td> VP &amp; Gen Cnsl</td>\n",
        "      <td> Senior</td>\n",
        "      <td>    Re: Coral Energy, L.P.</td>\n",
        "    </tr>\n",
        "    <tr>\n",
        "      <th>5</th>\n",
        "      <td> 912396120</td>\n",
        "      <td> Mark E. Taylor</td>\n",
        "      <td> VP &amp; Gen Cnsl</td>\n",
        "      <td> Senior</td>\n",
        "      <td> Bankruptcy Code revisions</td>\n",
        "    </tr>\n",
        "  </tbody>\n",
        "</table>\n",
        "</div>"
       ],
       "metadata": {},
       "output_type": "pyout",
       "prompt_number": 31,
       "text": [
        "     unix_time            name          title seniority  \\\n",
        "mid                                                       \n",
        "1    910930020  Mark E. Taylor  VP & Gen Cnsl    Senior   \n",
        "2    911459940  Mark E. Taylor  VP & Gen Cnsl    Senior   \n",
        "3    911463840  Mark E. Taylor  VP & Gen Cnsl    Senior   \n",
        "4    911874180  Mark E. Taylor  VP & Gen Cnsl    Senior   \n",
        "5    912396120  Mark E. Taylor  VP & Gen Cnsl    Senior   \n",
        "\n",
        "                       subject  \n",
        "mid                             \n",
        "1               Cd$ CME letter  \n",
        "2              Indemnification  \n",
        "3          Re: Indemnification  \n",
        "4       Re: Coral Energy, L.P.  \n",
        "5    Bankruptcy Code revisions  "
       ]
      }
     ],
     "prompt_number": 31
    },
    {
     "cell_type": "markdown",
     "metadata": {},
     "source": [
      "pandas.DataFrame.merge"
     ]
    },
    {
     "cell_type": "code",
     "collapsed": false,
     "input": [
      "EmployeeBase = pd.read_sql(\"\"\"SELECT eid, name, title, seniority \n",
      "                                    FROM EmployeeBase\"\"\", conn, \"eid\")\n",
      "EmployeeBase.merge(MessageBase, right_on = 'from_eid', left_index = True).head()"
     ],
     "language": "python",
     "metadata": {},
     "outputs": [
      {
       "html": [
        "<div style=\"max-height:1000px;max-width:1500px;overflow:auto;\">\n",
        "<table border=\"1\" class=\"dataframe\">\n",
        "  <thead>\n",
        "    <tr style=\"text-align: right;\">\n",
        "      <th></th>\n",
        "      <th>name</th>\n",
        "      <th>title</th>\n",
        "      <th>seniority</th>\n",
        "      <th>unix_time</th>\n",
        "      <th>subject</th>\n",
        "      <th>from_eid</th>\n",
        "    </tr>\n",
        "    <tr>\n",
        "      <th>mid</th>\n",
        "      <th></th>\n",
        "      <th></th>\n",
        "      <th></th>\n",
        "      <th></th>\n",
        "      <th></th>\n",
        "      <th></th>\n",
        "    </tr>\n",
        "  </thead>\n",
        "  <tbody>\n",
        "    <tr>\n",
        "      <th>1611</th>\n",
        "      <td> John Arnold</td>\n",
        "      <td> VP Trading</td>\n",
        "      <td> Senior</td>\n",
        "      <td> 954317280</td>\n",
        "      <td>        Re: Insurance Call Spread</td>\n",
        "      <td> 1</td>\n",
        "    </tr>\n",
        "    <tr>\n",
        "      <th>1615</th>\n",
        "      <td> John Arnold</td>\n",
        "      <td> VP Trading</td>\n",
        "      <td> Senior</td>\n",
        "      <td> 954328920</td>\n",
        "      <td> New curve generation methodology</td>\n",
        "      <td> 1</td>\n",
        "    </tr>\n",
        "    <tr>\n",
        "      <th>1722</th>\n",
        "      <td> John Arnold</td>\n",
        "      <td> VP Trading</td>\n",
        "      <td> Senior</td>\n",
        "      <td> 955447080</td>\n",
        "      <td> Option Analysis on NG Price Book</td>\n",
        "      <td> 1</td>\n",
        "    </tr>\n",
        "    <tr>\n",
        "      <th>1723</th>\n",
        "      <td> John Arnold</td>\n",
        "      <td> VP Trading</td>\n",
        "      <td> Senior</td>\n",
        "      <td> 955448160</td>\n",
        "      <td>                                 </td>\n",
        "      <td> 1</td>\n",
        "    </tr>\n",
        "    <tr>\n",
        "      <th>1763</th>\n",
        "      <td> John Arnold</td>\n",
        "      <td> VP Trading</td>\n",
        "      <td> Senior</td>\n",
        "      <td> 955701240</td>\n",
        "      <td>                      Re: options</td>\n",
        "      <td> 1</td>\n",
        "    </tr>\n",
        "  </tbody>\n",
        "</table>\n",
        "</div>"
       ],
       "metadata": {},
       "output_type": "pyout",
       "prompt_number": 32,
       "text": [
        "             name       title seniority  unix_time  \\\n",
        "mid                                                  \n",
        "1611  John Arnold  VP Trading    Senior  954317280   \n",
        "1615  John Arnold  VP Trading    Senior  954328920   \n",
        "1722  John Arnold  VP Trading    Senior  955447080   \n",
        "1723  John Arnold  VP Trading    Senior  955448160   \n",
        "1763  John Arnold  VP Trading    Senior  955701240   \n",
        "\n",
        "                               subject  from_eid  \n",
        "mid                                               \n",
        "1611         Re: Insurance Call Spread         1  \n",
        "1615  New curve generation methodology         1  \n",
        "1722  Option Analysis on NG Price Book         1  \n",
        "1723                                           1  \n",
        "1763                       Re: options         1  "
       ]
      }
     ],
     "prompt_number": 32
    },
    {
     "cell_type": "markdown",
     "metadata": {},
     "source": [
      "Histograms are a good way to get a feel for the data. For example:"
     ]
    },
    {
     "cell_type": "code",
     "collapsed": false,
     "input": [
      "MessageBase.unix_time.hist()"
     ],
     "language": "python",
     "metadata": {},
     "outputs": [
      {
       "metadata": {},
       "output_type": "pyout",
       "prompt_number": 33,
       "text": [
        "<matplotlib.axes._subplots.AxesSubplot at 0x1080a7c50>"
       ]
      },
      {
       "metadata": {},
       "output_type": "display_data",
       "png": "[encoded data removed]",
       "text": [
        "<matplotlib.figure.Figure at 0x107ea3e50>"
       ]
      }
     ],
     "prompt_number": 33
    },
    {
     "cell_type": "code",
     "collapsed": false,
     "input": [
      "MessageBase.unix_time.mean()"
     ],
     "language": "python",
     "metadata": {},
     "outputs": [
      {
       "metadata": {},
       "output_type": "pyout",
       "prompt_number": 34,
       "text": [
        "985319365.65994918"
       ]
      }
     ],
     "prompt_number": 34
    },
    {
     "cell_type": "markdown",
     "metadata": {},
     "source": [
      "What does this tell us? "
     ]
    },
    {
     "cell_type": "markdown",
     "metadata": {},
     "source": [
      "---"
     ]
    },
    {
     "cell_type": "markdown",
     "metadata": {},
     "source": [
      "`unix_time` (i.e. `unixepoch`) is easy for computers to read, but difficult for humans. It is the number of seconds since midnight, January 1, 1970. To make it more readable, we will map datetime.fromtimestamp onto that value to return a datetime object. We can then downsample the data from seconds to weeks. "
     ]
    },
    {
     "cell_type": "code",
     "collapsed": false,
     "input": [
      "from datetime import datetime\n",
      "dt = MessageBase.unix_time.map(datetime.fromtimestamp)\n",
      "plt.plot(MessageBase.groupby(dt).unix_time.count().resample('1W', how='sum'))"
     ],
     "language": "python",
     "metadata": {},
     "outputs": [
      {
       "metadata": {},
       "output_type": "pyout",
       "prompt_number": 35,
       "text": [
        "[<matplotlib.lines.Line2D at 0x10858b590>]"
       ]
      },
      {
       "metadata": {},
       "output_type": "display_data",
       "png": "[encoded data removed]",
       "text": [
        "<matplotlib.figure.Figure at 0x108411a50>"
       ]
      }
     ],
     "prompt_number": 35
    },
    {
     "cell_type": "markdown",
     "metadata": {},
     "source": [
      "What does this tell us?"
     ]
    },
    {
     "cell_type": "markdown",
     "metadata": {},
     "source": [
      "---"
     ]
    },
    {
     "cell_type": "markdown",
     "metadata": {},
     "source": [
      "## Your Turn\n",
      "---------\n",
      "1. Plot the max recipient count by week. How many peaks are there?\n",
      "2. What were the subject lines (if any) of the top 5 messages sorted by recipient count (in descending order)?\n",
      "3. Come up with three more questions about these data (and answer them)"
     ]
    },
    {
     "cell_type": "code",
     "collapsed": false,
     "input": [],
     "language": "python",
     "metadata": {},
     "outputs": []
    },
    {
     "cell_type": "code",
     "collapsed": false,
     "input": [],
     "language": "python",
     "metadata": {},
     "outputs": []
    },
    {
     "cell_type": "code",
     "collapsed": false,
     "input": [],
     "language": "python",
     "metadata": {},
     "outputs": []
    },
    {
     "cell_type": "markdown",
     "metadata": {},
     "source": [
      "## Exercise"
     ]
    },
    {
     "cell_type": "markdown",
     "metadata": {},
     "source": [
      "#### 1. Connect to the SF.Gov API and pull data from the 311 Table\n",
      "https://data.sfgov.org/City-Infrastructure/Case-Data-from-San-Francisco-311-SF311-/vw6y-z8j6\n",
      "\n",
      "Note: You'll need to sign up for an app token to avoid throttling limits\n",
      "http://dev.socrata.com/foundry/#/data.sfgov.org/vw6y-z8j6\n",
      "\n",
      "hint: use the built in JSON functionality inside python"
     ]
    },
    {
     "cell_type": "code",
     "collapsed": false,
     "input": [
      "import json\n",
      "import urllib\n",
      "url = \"https://data.sfgov.org/resource/vw6y-z8j6.json\"\n",
      "data = json.load(urllib.urlopen(url))"
     ],
     "language": "python",
     "metadata": {},
     "outputs": [],
     "prompt_number": 38
    },
    {
     "cell_type": "markdown",
     "metadata": {},
     "source": [
      "#### 2. How many elements are there in the JSON file? Display the length of the JSON object and display the elements contained in one of the items of the JSON file? "
     ]
    },
    {
     "cell_type": "code",
     "collapsed": false,
     "input": [
      "data[500]"
     ],
     "language": "python",
     "metadata": {},
     "outputs": [
      {
       "metadata": {},
       "output_type": "pyout",
       "prompt_number": 40,
       "text": [
        "{u'address': u'969 MARKET ST, SAN FRANCISCO, CA, 94103',\n",
        " u'case_id': u'4426839',\n",
        " u'category': u'Street and Sidewalk Cleaning',\n",
        " u'neighborhood': u'South of Market',\n",
        " u'opened': u'2015-01-25T13:50:37',\n",
        " u'point': {u'latitude': u'37.782665280159',\n",
        "  u'longitude': u'-122.409406091067',\n",
        "  u'needs_recoding': False},\n",
        " u'request_details': u'Human Waste',\n",
        " u'request_type': u'Hazardous Materials',\n",
        " u'responsible_agency': u'Clear Channel - Transit Queue',\n",
        " u'source': u'Voice In',\n",
        " u'status': u'Open',\n",
        " u'supervisor_district': u'6',\n",
        " u'updated': u'2015-01-25T13:51:36'}"
       ]
      }
     ],
     "prompt_number": 40
    },
    {
     "cell_type": "markdown",
     "metadata": {},
     "source": [
      "####3. Use Pandas \"Read JSON\" functionality to turn the 311 data into a Pandas Dataframe"
     ]
    },
    {
     "cell_type": "code",
     "collapsed": false,
     "input": [
      "df = pd.DataFrame(data)\n",
      "df.head(5)"
     ],
     "language": "python",
     "metadata": {},
     "outputs": [
      {
       "html": [
        "<div style=\"max-height:1000px;max-width:1500px;overflow:auto;\">\n",
        "<table border=\"1\" class=\"dataframe\">\n",
        "  <thead>\n",
        "    <tr style=\"text-align: right;\">\n",
        "      <th></th>\n",
        "      <th>address</th>\n",
        "      <th>case_id</th>\n",
        "      <th>category</th>\n",
        "      <th>closed</th>\n",
        "      <th>media_url</th>\n",
        "      <th>neighborhood</th>\n",
        "      <th>opened</th>\n",
        "      <th>point</th>\n",
        "      <th>request_details</th>\n",
        "      <th>request_type</th>\n",
        "      <th>responsible_agency</th>\n",
        "      <th>source</th>\n",
        "      <th>status</th>\n",
        "      <th>supervisor_district</th>\n",
        "      <th>updated</th>\n",
        "    </tr>\n",
        "  </thead>\n",
        "  <tbody>\n",
        "    <tr>\n",
        "      <th>0</th>\n",
        "      <td> NaN</td>\n",
        "      <td> NaN</td>\n",
        "      <td> NaN</td>\n",
        "      <td> NaN</td>\n",
        "      <td> NaN</td>\n",
        "      <td> NaN</td>\n",
        "      <td> NaN</td>\n",
        "      <td> NaN</td>\n",
        "      <td> NaN</td>\n",
        "      <td> NaN</td>\n",
        "      <td> NaN</td>\n",
        "      <td> NaN</td>\n",
        "      <td> NaN</td>\n",
        "      <td> NaN</td>\n",
        "      <td> NaN</td>\n",
        "    </tr>\n",
        "    <tr>\n",
        "      <th>1</th>\n",
        "      <td> NaN</td>\n",
        "      <td> NaN</td>\n",
        "      <td> NaN</td>\n",
        "      <td> NaN</td>\n",
        "      <td> NaN</td>\n",
        "      <td> NaN</td>\n",
        "      <td> NaN</td>\n",
        "      <td> NaN</td>\n",
        "      <td> NaN</td>\n",
        "      <td> NaN</td>\n",
        "      <td> NaN</td>\n",
        "      <td> NaN</td>\n",
        "      <td> NaN</td>\n",
        "      <td> NaN</td>\n",
        "      <td> NaN</td>\n",
        "    </tr>\n",
        "    <tr>\n",
        "      <th>2</th>\n",
        "      <td> NaN</td>\n",
        "      <td> NaN</td>\n",
        "      <td> NaN</td>\n",
        "      <td> NaN</td>\n",
        "      <td> NaN</td>\n",
        "      <td> NaN</td>\n",
        "      <td> NaN</td>\n",
        "      <td> NaN</td>\n",
        "      <td> NaN</td>\n",
        "      <td> NaN</td>\n",
        "      <td> NaN</td>\n",
        "      <td> NaN</td>\n",
        "      <td> NaN</td>\n",
        "      <td> NaN</td>\n",
        "      <td> NaN</td>\n",
        "    </tr>\n",
        "    <tr>\n",
        "      <th>3</th>\n",
        "      <td> NaN</td>\n",
        "      <td> NaN</td>\n",
        "      <td> NaN</td>\n",
        "      <td> NaN</td>\n",
        "      <td> NaN</td>\n",
        "      <td> NaN</td>\n",
        "      <td> NaN</td>\n",
        "      <td> NaN</td>\n",
        "      <td> NaN</td>\n",
        "      <td> NaN</td>\n",
        "      <td> NaN</td>\n",
        "      <td> NaN</td>\n",
        "      <td> NaN</td>\n",
        "      <td> NaN</td>\n",
        "      <td> NaN</td>\n",
        "    </tr>\n",
        "    <tr>\n",
        "      <th>4</th>\n",
        "      <td> NaN</td>\n",
        "      <td> NaN</td>\n",
        "      <td> NaN</td>\n",
        "      <td> NaN</td>\n",
        "      <td> NaN</td>\n",
        "      <td> NaN</td>\n",
        "      <td> NaN</td>\n",
        "      <td> NaN</td>\n",
        "      <td> NaN</td>\n",
        "      <td> NaN</td>\n",
        "      <td> NaN</td>\n",
        "      <td> NaN</td>\n",
        "      <td> NaN</td>\n",
        "      <td> NaN</td>\n",
        "      <td> NaN</td>\n",
        "    </tr>\n",
        "  </tbody>\n",
        "</table>\n",
        "</div>"
       ],
       "metadata": {},
       "output_type": "pyout",
       "prompt_number": 43,
       "text": [
        "  address case_id category closed media_url neighborhood opened point  \\\n",
        "0     NaN     NaN      NaN    NaN       NaN          NaN    NaN   NaN   \n",
        "1     NaN     NaN      NaN    NaN       NaN          NaN    NaN   NaN   \n",
        "2     NaN     NaN      NaN    NaN       NaN          NaN    NaN   NaN   \n",
        "3     NaN     NaN      NaN    NaN       NaN          NaN    NaN   NaN   \n",
        "4     NaN     NaN      NaN    NaN       NaN          NaN    NaN   NaN   \n",
        "\n",
        "  request_details request_type responsible_agency source status  \\\n",
        "0             NaN          NaN                NaN    NaN    NaN   \n",
        "1             NaN          NaN                NaN    NaN    NaN   \n",
        "2             NaN          NaN                NaN    NaN    NaN   \n",
        "3             NaN          NaN                NaN    NaN    NaN   \n",
        "4             NaN          NaN                NaN    NaN    NaN   \n",
        "\n",
        "  supervisor_district updated  \n",
        "0                 NaN     NaN  \n",
        "1                 NaN     NaN  \n",
        "2                 NaN     NaN  \n",
        "3                 NaN     NaN  \n",
        "4                 NaN     NaN  "
       ]
      }
     ],
     "prompt_number": 43
    },
    {
     "cell_type": "code",
     "collapsed": false,
     "input": [
      "df.info()"
     ],
     "language": "python",
     "metadata": {},
     "outputs": [
      {
       "output_type": "stream",
       "stream": "stdout",
       "text": [
        "<class 'pandas.core.frame.DataFrame'>\n",
        "Int64Index: 1000 entries, 0 to 999\n",
        "Data columns (total 15 columns):\n",
        "address                745 non-null object\n",
        "case_id                745 non-null object\n",
        "category               745 non-null object\n",
        "closed                 174 non-null object\n",
        "media_url              275 non-null object\n",
        "neighborhood           743 non-null object\n",
        "opened                 745 non-null object\n",
        "point                  745 non-null object\n",
        "request_details        738 non-null object\n",
        "request_type           745 non-null object\n",
        "responsible_agency     745 non-null object\n",
        "source                 745 non-null object\n",
        "status                 745 non-null object\n",
        "supervisor_district    745 non-null object\n",
        "updated                745 non-null object\n",
        "dtypes: object(15)\n",
        "memory usage: 125.0+ KB\n"
       ]
      }
     ],
     "prompt_number": 44
    },
    {
     "cell_type": "code",
     "collapsed": false,
     "input": [
      "df.dropna(inplace=True)"
     ],
     "language": "python",
     "metadata": {},
     "outputs": [],
     "prompt_number": 45
    },
    {
     "cell_type": "code",
     "collapsed": false,
     "input": [
      "df.head(5)"
     ],
     "language": "python",
     "metadata": {},
     "outputs": [
      {
       "html": [
        "<div style=\"max-height:1000px;max-width:1500px;overflow:auto;\">\n",
        "<table border=\"1\" class=\"dataframe\">\n",
        "  <thead>\n",
        "    <tr style=\"text-align: right;\">\n",
        "      <th></th>\n",
        "      <th>address</th>\n",
        "      <th>case_id</th>\n",
        "      <th>category</th>\n",
        "      <th>closed</th>\n",
        "      <th>media_url</th>\n",
        "      <th>neighborhood</th>\n",
        "      <th>opened</th>\n",
        "      <th>point</th>\n",
        "      <th>request_details</th>\n",
        "      <th>request_type</th>\n",
        "      <th>responsible_agency</th>\n",
        "      <th>source</th>\n",
        "      <th>status</th>\n",
        "      <th>supervisor_district</th>\n",
        "      <th>updated</th>\n",
        "    </tr>\n",
        "  </thead>\n",
        "  <tbody>\n",
        "    <tr>\n",
        "      <th>334</th>\n",
        "      <td>    340 BRYANT ST, SAN FRANCISCO, CA, 94107</td>\n",
        "      <td> 4427426</td>\n",
        "      <td>   Blocked Street or SideWalk</td>\n",
        "      <td> 2015-01-25T20:23:33</td>\n",
        "      <td> {u'url': u'http://mobile311.sfgov.org/media/sa...</td>\n",
        "      <td>     South of Market</td>\n",
        "      <td> 2015-01-25T17:45:04</td>\n",
        "      <td> {u'latitude': u'37.78420025576', u'needs_recod...</td>\n",
        "      <td> Construction_equipment blocking parking space</td>\n",
        "      <td>             Blocked_Parking_Space_or_Strip</td>\n",
        "      <td>        DPW BSM Queue</td>\n",
        "      <td> Open311</td>\n",
        "      <td> Closed</td>\n",
        "      <td>  6</td>\n",
        "      <td> 2015-01-25T20:23:33</td>\n",
        "    </tr>\n",
        "    <tr>\n",
        "      <th>417</th>\n",
        "      <td>   401 DUBOCE AVE, SAN FRANCISCO, CA, 94117</td>\n",
        "      <td> 4427192</td>\n",
        "      <td> Street and Sidewalk Cleaning</td>\n",
        "      <td> 2015-01-25T22:15:01</td>\n",
        "      <td> {u'url': u'http://mobile311.sfgov.org/media/sa...</td>\n",
        "      <td> Castro/Upper Market</td>\n",
        "      <td> 2015-01-25T16:19:03</td>\n",
        "      <td> {u'latitude': u'37.769299485483', u'needs_reco...</td>\n",
        "      <td>                                   Paper Spill</td>\n",
        "      <td>                           General Cleaning</td>\n",
        "      <td>        DPW Ops Queue</td>\n",
        "      <td> Open311</td>\n",
        "      <td> Closed</td>\n",
        "      <td>  8</td>\n",
        "      <td> 2015-01-25T22:15:01</td>\n",
        "    </tr>\n",
        "    <tr>\n",
        "      <th>437</th>\n",
        "      <td> 1221 BOSWORTH ST, SAN FRANCISCO, CA, 94131</td>\n",
        "      <td> 4427108</td>\n",
        "      <td>    Graffiti Private Property</td>\n",
        "      <td> 2015-01-25T16:20:10</td>\n",
        "      <td> {u'url': u'http://mobile311.sfgov.org/media/sa...</td>\n",
        "      <td>       Outer Mission</td>\n",
        "      <td> 2015-01-25T15:40:43</td>\n",
        "      <td> {u'latitude': u'37.735350407758', u'needs_reco...</td>\n",
        "      <td>                Building_other - Not_Offensive</td>\n",
        "      <td> Not_Offensive Graffiti on Private Property</td>\n",
        "      <td> 311 Supervisor Queue</td>\n",
        "      <td> Open311</td>\n",
        "      <td> Closed</td>\n",
        "      <td>  7</td>\n",
        "      <td> 2015-01-25T16:20:10</td>\n",
        "    </tr>\n",
        "    <tr>\n",
        "      <th>447</th>\n",
        "      <td>     4303 17TH ST, SAN FRANCISCO, CA, 94114</td>\n",
        "      <td> 4427064</td>\n",
        "      <td> Street and Sidewalk Cleaning</td>\n",
        "      <td> 2015-01-25T15:43:52</td>\n",
        "      <td> {u'url': u'http://mobile311.sfgov.org/media/sa...</td>\n",
        "      <td> Castro/Upper Market</td>\n",
        "      <td> 2015-01-25T15:22:24</td>\n",
        "      <td> {u'latitude': u'37.762123767289', u'needs_reco...</td>\n",
        "      <td>       Overflowing_City_Receptacle_or_Dumpster</td>\n",
        "      <td>    Overflowing_City_Receptacle_or_Dumpster</td>\n",
        "      <td> Recology_Overflowing</td>\n",
        "      <td> Open311</td>\n",
        "      <td> Closed</td>\n",
        "      <td>  8</td>\n",
        "      <td> 2015-01-25T15:43:52</td>\n",
        "    </tr>\n",
        "    <tr>\n",
        "      <th>455</th>\n",
        "      <td>    295 MUNICH ST, SAN FRANCISCO, CA, 94112</td>\n",
        "      <td> 4427021</td>\n",
        "      <td> Street and Sidewalk Cleaning</td>\n",
        "      <td> 2015-01-25T16:40:20</td>\n",
        "      <td> {u'url': u'http://mobile311.sfgov.org/media/sa...</td>\n",
        "      <td>           Excelsior</td>\n",
        "      <td> 2015-01-25T15:09:33</td>\n",
        "      <td> {u'latitude': u'37.720921750239', u'needs_reco...</td>\n",
        "      <td>                           Other Loose Garbage</td>\n",
        "      <td>                           General Cleaning</td>\n",
        "      <td>   Recology_Abandoned</td>\n",
        "      <td> Open311</td>\n",
        "      <td> Closed</td>\n",
        "      <td> 11</td>\n",
        "      <td> 2015-01-25T16:40:20</td>\n",
        "    </tr>\n",
        "  </tbody>\n",
        "</table>\n",
        "</div>"
       ],
       "metadata": {},
       "output_type": "pyout",
       "prompt_number": 46,
       "text": [
        "                                        address  case_id  \\\n",
        "334     340 BRYANT ST, SAN FRANCISCO, CA, 94107  4427426   \n",
        "417    401 DUBOCE AVE, SAN FRANCISCO, CA, 94117  4427192   \n",
        "437  1221 BOSWORTH ST, SAN FRANCISCO, CA, 94131  4427108   \n",
        "447      4303 17TH ST, SAN FRANCISCO, CA, 94114  4427064   \n",
        "455     295 MUNICH ST, SAN FRANCISCO, CA, 94112  4427021   \n",
        "\n",
        "                         category               closed  \\\n",
        "334    Blocked Street or SideWalk  2015-01-25T20:23:33   \n",
        "417  Street and Sidewalk Cleaning  2015-01-25T22:15:01   \n",
        "437     Graffiti Private Property  2015-01-25T16:20:10   \n",
        "447  Street and Sidewalk Cleaning  2015-01-25T15:43:52   \n",
        "455  Street and Sidewalk Cleaning  2015-01-25T16:40:20   \n",
        "\n",
        "                                             media_url         neighborhood  \\\n",
        "334  {u'url': u'http://mobile311.sfgov.org/media/sa...      South of Market   \n",
        "417  {u'url': u'http://mobile311.sfgov.org/media/sa...  Castro/Upper Market   \n",
        "437  {u'url': u'http://mobile311.sfgov.org/media/sa...        Outer Mission   \n",
        "447  {u'url': u'http://mobile311.sfgov.org/media/sa...  Castro/Upper Market   \n",
        "455  {u'url': u'http://mobile311.sfgov.org/media/sa...            Excelsior   \n",
        "\n",
        "                  opened                                              point  \\\n",
        "334  2015-01-25T17:45:04  {u'latitude': u'37.78420025576', u'needs_recod...   \n",
        "417  2015-01-25T16:19:03  {u'latitude': u'37.769299485483', u'needs_reco...   \n",
        "437  2015-01-25T15:40:43  {u'latitude': u'37.735350407758', u'needs_reco...   \n",
        "447  2015-01-25T15:22:24  {u'latitude': u'37.762123767289', u'needs_reco...   \n",
        "455  2015-01-25T15:09:33  {u'latitude': u'37.720921750239', u'needs_reco...   \n",
        "\n",
        "                                   request_details  \\\n",
        "334  Construction_equipment blocking parking space   \n",
        "417                                    Paper Spill   \n",
        "437                 Building_other - Not_Offensive   \n",
        "447        Overflowing_City_Receptacle_or_Dumpster   \n",
        "455                            Other Loose Garbage   \n",
        "\n",
        "                                   request_type    responsible_agency  \\\n",
        "334              Blocked_Parking_Space_or_Strip         DPW BSM Queue   \n",
        "417                            General Cleaning         DPW Ops Queue   \n",
        "437  Not_Offensive Graffiti on Private Property  311 Supervisor Queue   \n",
        "447     Overflowing_City_Receptacle_or_Dumpster  Recology_Overflowing   \n",
        "455                            General Cleaning    Recology_Abandoned   \n",
        "\n",
        "      source  status supervisor_district              updated  \n",
        "334  Open311  Closed                   6  2015-01-25T20:23:33  \n",
        "417  Open311  Closed                   8  2015-01-25T22:15:01  \n",
        "437  Open311  Closed                   7  2015-01-25T16:20:10  \n",
        "447  Open311  Closed                   8  2015-01-25T15:43:52  \n",
        "455  Open311  Closed                  11  2015-01-25T16:40:20  "
       ]
      }
     ],
     "prompt_number": 46
    },
    {
     "cell_type": "code",
     "collapsed": false,
     "input": [
      "del df['point']"
     ],
     "language": "python",
     "metadata": {},
     "outputs": [],
     "prompt_number": 47
    },
    {
     "cell_type": "code",
     "collapsed": false,
     "input": [
      "del df['media_url']"
     ],
     "language": "python",
     "metadata": {},
     "outputs": [],
     "prompt_number": 48
    },
    {
     "cell_type": "code",
     "collapsed": false,
     "input": [
      "df.head(5)"
     ],
     "language": "python",
     "metadata": {},
     "outputs": [
      {
       "html": [
        "<div style=\"max-height:1000px;max-width:1500px;overflow:auto;\">\n",
        "<table border=\"1\" class=\"dataframe\">\n",
        "  <thead>\n",
        "    <tr style=\"text-align: right;\">\n",
        "      <th></th>\n",
        "      <th>address</th>\n",
        "      <th>case_id</th>\n",
        "      <th>category</th>\n",
        "      <th>closed</th>\n",
        "      <th>neighborhood</th>\n",
        "      <th>opened</th>\n",
        "      <th>request_details</th>\n",
        "      <th>request_type</th>\n",
        "      <th>responsible_agency</th>\n",
        "      <th>source</th>\n",
        "      <th>status</th>\n",
        "      <th>supervisor_district</th>\n",
        "      <th>updated</th>\n",
        "    </tr>\n",
        "  </thead>\n",
        "  <tbody>\n",
        "    <tr>\n",
        "      <th>334</th>\n",
        "      <td>    340 BRYANT ST, SAN FRANCISCO, CA, 94107</td>\n",
        "      <td> 4427426</td>\n",
        "      <td>   Blocked Street or SideWalk</td>\n",
        "      <td> 2015-01-25T20:23:33</td>\n",
        "      <td>     South of Market</td>\n",
        "      <td> 2015-01-25T17:45:04</td>\n",
        "      <td> Construction_equipment blocking parking space</td>\n",
        "      <td>             Blocked_Parking_Space_or_Strip</td>\n",
        "      <td>        DPW BSM Queue</td>\n",
        "      <td> Open311</td>\n",
        "      <td> Closed</td>\n",
        "      <td>  6</td>\n",
        "      <td> 2015-01-25T20:23:33</td>\n",
        "    </tr>\n",
        "    <tr>\n",
        "      <th>417</th>\n",
        "      <td>   401 DUBOCE AVE, SAN FRANCISCO, CA, 94117</td>\n",
        "      <td> 4427192</td>\n",
        "      <td> Street and Sidewalk Cleaning</td>\n",
        "      <td> 2015-01-25T22:15:01</td>\n",
        "      <td> Castro/Upper Market</td>\n",
        "      <td> 2015-01-25T16:19:03</td>\n",
        "      <td>                                   Paper Spill</td>\n",
        "      <td>                           General Cleaning</td>\n",
        "      <td>        DPW Ops Queue</td>\n",
        "      <td> Open311</td>\n",
        "      <td> Closed</td>\n",
        "      <td>  8</td>\n",
        "      <td> 2015-01-25T22:15:01</td>\n",
        "    </tr>\n",
        "    <tr>\n",
        "      <th>437</th>\n",
        "      <td> 1221 BOSWORTH ST, SAN FRANCISCO, CA, 94131</td>\n",
        "      <td> 4427108</td>\n",
        "      <td>    Graffiti Private Property</td>\n",
        "      <td> 2015-01-25T16:20:10</td>\n",
        "      <td>       Outer Mission</td>\n",
        "      <td> 2015-01-25T15:40:43</td>\n",
        "      <td>                Building_other - Not_Offensive</td>\n",
        "      <td> Not_Offensive Graffiti on Private Property</td>\n",
        "      <td> 311 Supervisor Queue</td>\n",
        "      <td> Open311</td>\n",
        "      <td> Closed</td>\n",
        "      <td>  7</td>\n",
        "      <td> 2015-01-25T16:20:10</td>\n",
        "    </tr>\n",
        "    <tr>\n",
        "      <th>447</th>\n",
        "      <td>     4303 17TH ST, SAN FRANCISCO, CA, 94114</td>\n",
        "      <td> 4427064</td>\n",
        "      <td> Street and Sidewalk Cleaning</td>\n",
        "      <td> 2015-01-25T15:43:52</td>\n",
        "      <td> Castro/Upper Market</td>\n",
        "      <td> 2015-01-25T15:22:24</td>\n",
        "      <td>       Overflowing_City_Receptacle_or_Dumpster</td>\n",
        "      <td>    Overflowing_City_Receptacle_or_Dumpster</td>\n",
        "      <td> Recology_Overflowing</td>\n",
        "      <td> Open311</td>\n",
        "      <td> Closed</td>\n",
        "      <td>  8</td>\n",
        "      <td> 2015-01-25T15:43:52</td>\n",
        "    </tr>\n",
        "    <tr>\n",
        "      <th>455</th>\n",
        "      <td>    295 MUNICH ST, SAN FRANCISCO, CA, 94112</td>\n",
        "      <td> 4427021</td>\n",
        "      <td> Street and Sidewalk Cleaning</td>\n",
        "      <td> 2015-01-25T16:40:20</td>\n",
        "      <td>           Excelsior</td>\n",
        "      <td> 2015-01-25T15:09:33</td>\n",
        "      <td>                           Other Loose Garbage</td>\n",
        "      <td>                           General Cleaning</td>\n",
        "      <td>   Recology_Abandoned</td>\n",
        "      <td> Open311</td>\n",
        "      <td> Closed</td>\n",
        "      <td> 11</td>\n",
        "      <td> 2015-01-25T16:40:20</td>\n",
        "    </tr>\n",
        "  </tbody>\n",
        "</table>\n",
        "</div>"
       ],
       "metadata": {},
       "output_type": "pyout",
       "prompt_number": 49,
       "text": [
        "                                        address  case_id  \\\n",
        "334     340 BRYANT ST, SAN FRANCISCO, CA, 94107  4427426   \n",
        "417    401 DUBOCE AVE, SAN FRANCISCO, CA, 94117  4427192   \n",
        "437  1221 BOSWORTH ST, SAN FRANCISCO, CA, 94131  4427108   \n",
        "447      4303 17TH ST, SAN FRANCISCO, CA, 94114  4427064   \n",
        "455     295 MUNICH ST, SAN FRANCISCO, CA, 94112  4427021   \n",
        "\n",
        "                         category               closed         neighborhood  \\\n",
        "334    Blocked Street or SideWalk  2015-01-25T20:23:33      South of Market   \n",
        "417  Street and Sidewalk Cleaning  2015-01-25T22:15:01  Castro/Upper Market   \n",
        "437     Graffiti Private Property  2015-01-25T16:20:10        Outer Mission   \n",
        "447  Street and Sidewalk Cleaning  2015-01-25T15:43:52  Castro/Upper Market   \n",
        "455  Street and Sidewalk Cleaning  2015-01-25T16:40:20            Excelsior   \n",
        "\n",
        "                  opened                                request_details  \\\n",
        "334  2015-01-25T17:45:04  Construction_equipment blocking parking space   \n",
        "417  2015-01-25T16:19:03                                    Paper Spill   \n",
        "437  2015-01-25T15:40:43                 Building_other - Not_Offensive   \n",
        "447  2015-01-25T15:22:24        Overflowing_City_Receptacle_or_Dumpster   \n",
        "455  2015-01-25T15:09:33                            Other Loose Garbage   \n",
        "\n",
        "                                   request_type    responsible_agency  \\\n",
        "334              Blocked_Parking_Space_or_Strip         DPW BSM Queue   \n",
        "417                            General Cleaning         DPW Ops Queue   \n",
        "437  Not_Offensive Graffiti on Private Property  311 Supervisor Queue   \n",
        "447     Overflowing_City_Receptacle_or_Dumpster  Recology_Overflowing   \n",
        "455                            General Cleaning    Recology_Abandoned   \n",
        "\n",
        "      source  status supervisor_district              updated  \n",
        "334  Open311  Closed                   6  2015-01-25T20:23:33  \n",
        "417  Open311  Closed                   8  2015-01-25T22:15:01  \n",
        "437  Open311  Closed                   7  2015-01-25T16:20:10  \n",
        "447  Open311  Closed                   8  2015-01-25T15:43:52  \n",
        "455  Open311  Closed                  11  2015-01-25T16:40:20  "
       ]
      }
     ],
     "prompt_number": 49
    },
    {
     "cell_type": "markdown",
     "metadata": {},
     "source": [
      "### Create a Databse and Store the results.\n",
      "\n",
      "* Here, we are creating the DB in memory.  You can change it to a real DB filename if you want to keep it for further analysis"
     ]
    },
    {
     "cell_type": "code",
     "collapsed": false,
     "input": [
      "# Write to Database.  We will then use to run queries\n",
      "con = sqlite3.connect(\":memory:\")\n",
      "df.to_sql('sf_311', con)"
     ],
     "language": "python",
     "metadata": {},
     "outputs": [],
     "prompt_number": 50
    },
    {
     "cell_type": "markdown",
     "metadata": {},
     "source": [
      "### Display first 5 rows"
     ]
    },
    {
     "cell_type": "code",
     "collapsed": false,
     "input": [
      "# Your code goes here"
     ],
     "language": "python",
     "metadata": {},
     "outputs": [],
     "prompt_number": 52
    },
    {
     "cell_type": "markdown",
     "metadata": {},
     "source": [
      "### Show 10 of the sidewalk cleanings (request_type='Sidewalk_Cleaning') in the Haight Ashbury neighborhood\n",
      "\n",
      "Hint: \n",
      "* request_type='Sidewalk_Cleaning'\n",
      "* neighborhood='Haight Ashbury' "
     ]
    },
    {
     "cell_type": "code",
     "collapsed": false,
     "input": [
      "# Your code here"
     ],
     "language": "python",
     "metadata": {},
     "outputs": [],
     "prompt_number": 53
    },
    {
     "cell_type": "markdown",
     "metadata": {},
     "source": [
      "### Which type of complaint was most common? "
     ]
    },
    {
     "cell_type": "code",
     "collapsed": false,
     "input": [
      "# Your code goes here"
     ],
     "language": "python",
     "metadata": {},
     "outputs": [],
     "prompt_number": 54
    },
    {
     "cell_type": "markdown",
     "metadata": {},
     "source": [
      "### Are there any neighborhoods where sidewalk cleaning requests are the most common? "
     ]
    },
    {
     "cell_type": "code",
     "collapsed": false,
     "input": [
      "# Your code goes here"
     ],
     "language": "python",
     "metadata": {},
     "outputs": [],
     "prompt_number": 55
    },
    {
     "cell_type": "markdown",
     "metadata": {},
     "source": [
      "### Are there any neighborhoods where sidewalk cleaning requests aren't the most common? "
     ]
    },
    {
     "cell_type": "code",
     "collapsed": false,
     "input": [
      "# Your code here"
     ],
     "language": "python",
     "metadata": {},
     "outputs": [],
     "prompt_number": 56
    },
    {
     "cell_type": "code",
     "collapsed": false,
     "input": [],
     "language": "python",
     "metadata": {},
     "outputs": []
    }
   ],
   "metadata": {}
  }
 ]
}