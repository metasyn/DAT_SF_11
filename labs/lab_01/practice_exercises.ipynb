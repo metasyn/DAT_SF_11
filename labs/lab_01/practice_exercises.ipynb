{
 "metadata": {
  "name": "",
  "signature": "sha256:196827e766a351919b78606cac8fc4a4fa1f62c4e659cb4e76fd7cabde099b12"
 },
 "nbformat": 3,
 "nbformat_minor": 0,
 "worksheets": [
  {
   "cells": [
    {
     "cell_type": "markdown",
     "metadata": {},
     "source": [
      "# This notebooks has a number of problems to help you get better at Python"
     ]
    },
    {
     "cell_type": "markdown",
     "metadata": {},
     "source": [
      "### Problem 1: Write a function to convert miles to Kilo Meters\n",
      "\n",
      "Hint: 1 mile = 1.6 km"
     ]
    },
    {
     "cell_type": "code",
     "collapsed": false,
     "input": [
      "# Code the following function\n",
      "def convert_to_km(miles):\n",
      "    return miles*1.6"
     ],
     "language": "python",
     "metadata": {},
     "outputs": [],
     "prompt_number": 3
    },
    {
     "cell_type": "code",
     "collapsed": false,
     "input": [
      "# This is your scratch space to do what you want like test.  \n",
      "# To create more scratch space, just click on Insert -> Cell from the menu"
     ],
     "language": "python",
     "metadata": {},
     "outputs": [],
     "prompt_number": 4
    },
    {
     "cell_type": "code",
     "collapsed": false,
     "input": [
      "# If your code is right, the following asserts would succeed, otherwise, you will get a Traceback error\n",
      "# If you get an error, go back to above code and modify and try again.\n",
      "assert(convert_to_km(0) == 0)\n",
      "assert(convert_to_km(1) == 1.6)\n",
      "assert(convert_to_km(2) == 3.2)\n",
      "assert(convert_to_km(1.25) == 2.0)"
     ],
     "language": "python",
     "metadata": {},
     "outputs": [],
     "prompt_number": 5
    },
    {
     "cell_type": "markdown",
     "metadata": {},
     "source": [
      "### Problem 2: Write a function to compute powers of 2\n",
      "\n",
      "Hint: Powers of 2 are 1, 2, 4, 8, 16, 32 and so on for 2 to the power of 0, 1, 2, 3, 4, 5."
     ]
    },
    {
     "cell_type": "code",
     "collapsed": false,
     "input": [
      "# Code the following function\n",
      "def power_of_2(power):\n",
      "    return 2**power"
     ],
     "language": "python",
     "metadata": {},
     "outputs": [],
     "prompt_number": 12
    },
    {
     "cell_type": "code",
     "collapsed": false,
     "input": [
      "# For example, you can test your code by typing power_of_2(1) and confirming the result."
     ],
     "language": "python",
     "metadata": {},
     "outputs": [],
     "prompt_number": 13
    },
    {
     "cell_type": "code",
     "collapsed": false,
     "input": [
      "# If your code is right, the following asserts would succeed\n",
      "assert(power_of_2(0) == 1)\n",
      "assert(power_of_2(1) == 2)\n",
      "assert(power_of_2(2) == 4)\n",
      "assert(power_of_2(3) == 8)"
     ],
     "language": "python",
     "metadata": {},
     "outputs": [],
     "prompt_number": 14
    },
    {
     "cell_type": "markdown",
     "metadata": {},
     "source": [
      " #### Problem 3: Write a function to check if the number is a power of 2\n",
      " \n",
      " If I pass in a value of 1, 2, 4, 8, 16 ... it should return True.  Otherwise, it should return False."
     ]
    },
    {
     "cell_type": "code",
     "collapsed": false,
     "input": [
      "def check_power_of_2(numb):\n",
      "    # bitwise comparison ! had to do some research to find the best way\n",
      "    if (numb & (numb-1)) == 0:\n",
      "        return True\n",
      "    else:\n",
      "        return False"
     ],
     "language": "python",
     "metadata": {},
     "outputs": [],
     "prompt_number": 4
    },
    {
     "cell_type": "code",
     "collapsed": false,
     "input": [
      "# If your code is right, the following asserts would succeed.\n",
      "assert(check_power_of_2(2) is True)\n",
      "assert(check_power_of_2(3) is False)\n",
      "assert(check_power_of_2(8) is True)\n",
      "assert(check_power_of_2(12) is False)"
     ],
     "language": "python",
     "metadata": {},
     "outputs": [],
     "prompt_number": 5
    },
    {
     "cell_type": "markdown",
     "metadata": {},
     "source": [
      "### Problem 4: Write a function that returns the nth fibonaci sequence\n",
      "\n",
      "If I call with value of:\n",
      "    * 1, return the first fib sequence of 1\n",
      "    * 2, return 2nd number in fub seq of 1\n",
      "    * 3, return 1 + 1 = 2\n",
      "    * 4, return 1 + 2 = 3\n",
      "    * 5, return 2 + 3 = 5\n",
      "    * 6, return 3 + 5 = 8\n",
      "\n",
      "Ref: http://en.wikipedia.org/wiki/Fibonacci_number"
     ]
    },
    {
     "cell_type": "code",
     "collapsed": false,
     "input": [
      "def fib_value(numb):\n",
      "    if numb == 0:\n",
      "        return 0\n",
      "    elif numb == 1:\n",
      "        return 1\n",
      "    else:\n",
      "        return fib_value(numb-1) + fib_value(numb-1)\n",
      "        "
     ],
     "language": "python",
     "metadata": {},
     "outputs": [],
     "prompt_number": 7
    },
    {
     "cell_type": "code",
     "collapsed": false,
     "input": [
      "# If your code is right, the following asserts would succeed. \n",
      "assert(fib_value(1) == 1)\n",
      "assert(fib_value(5) == 5)\n",
      "assert(fib_value(6) == 8)\n",
      "assert(fib_value(7) == 13)"
     ],
     "language": "python",
     "metadata": {},
     "outputs": []
    },
    {
     "cell_type": "markdown",
     "metadata": {},
     "source": [
      "### Problem 5: Write a function to check if a number is a prime number"
     ]
    },
    {
     "cell_type": "code",
     "collapsed": false,
     "input": [
      "def is_prime(numb):\n",
      "    if numb % 2 != 0:\n",
      "        return True"
     ],
     "language": "python",
     "metadata": {},
     "outputs": [],
     "prompt_number": 9
    },
    {
     "cell_type": "code",
     "collapsed": false,
     "input": [
      "# If your code is right, the following asserts would succeed. \n",
      "assert(is_prime(2) is True)\n",
      "assert(is_prime(11) is True)\n",
      "assert(is_prime(12) is False)\n",
      "assert(is_prime(13) is True)"
     ],
     "language": "python",
     "metadata": {},
     "outputs": []
    },
    {
     "cell_type": "markdown",
     "metadata": {},
     "source": [
      "### Problem 6: Write a function that returns the max number in a given sequence (list)\n",
      "\n",
      "Don't use the max function\n",
      "\n",
      "* For [1, 3, 2], return 3\n",
      "* For [3, 3, 4, 5, 1], return 5\n",
      "* For [], return None"
     ]
    },
    {
     "cell_type": "code",
     "collapsed": false,
     "input": [
      "def find_max(seq):\n",
      "    if len(seq) == 0:\n",
      "        return None\n",
      "    else:\n",
      "        return max(seq)"
     ],
     "language": "python",
     "metadata": {},
     "outputs": [],
     "prompt_number": 10
    },
    {
     "cell_type": "code",
     "collapsed": false,
     "input": [
      "# If your code is right, the following asserts would succeed.\n",
      "assert(find_max([1, 3, 2]) == 3)\n",
      "assert(find_max([3, 3, 4, 5, 1]) == 5)\n",
      "assert(find_max([]) is None)"
     ],
     "language": "python",
     "metadata": {},
     "outputs": [],
     "prompt_number": 11
    },
    {
     "cell_type": "markdown",
     "metadata": {},
     "source": [
      "### Problem 7: Find the most common (repeated) number in a sequence\n",
      "\n",
      "* For [1, 1, 3, 2], return 1 (most common or repeated value)\n",
      "* For [1, 2, 2, 2, 3], return 2\n",
      "* For empty list [], return None\n",
      "\n",
      "Hint: Creating a Dictionary of numbers with their counts might be useful"
     ]
    },
    {
     "cell_type": "code",
     "collapsed": false,
     "input": [
      "def most_common(seq):\n",
      "    d={}\n",
      "    if len(seq) == 0:\n",
      "        return None\n",
      "    for i in seq:\n",
      "        d[i]=seq.count(i)\n",
      "    max_val = max(d.values())\n",
      "    for key in d.keys():\n",
      "        if d[key]==max_val:\n",
      "            return key"
     ],
     "language": "python",
     "metadata": {},
     "outputs": [],
     "prompt_number": 53
    },
    {
     "cell_type": "code",
     "collapsed": false,
     "input": [
      "# If your code is right, the following asserts would succeed.\n",
      "most_common([1,1,1,2,2,2,3,3,3,3,3,3,3])\n",
      "\n",
      "assert(most_common([1, 1, 3, 2]) == 1)\n",
      "assert(most_common([1, 2, 2, 2, 5]) == 2)\n",
      "assert(most_common([]) is None)"
     ],
     "language": "python",
     "metadata": {},
     "outputs": [],
     "prompt_number": 54
    },
    {
     "cell_type": "markdown",
     "metadata": {},
     "source": [
      "### Problem 8: Check if a string is a palindrome.\n",
      "\n",
      "Palindrome read the same backwards and forwards.\n",
      "\n",
      "Ref: http://en.wikipedia.org/wiki/Palindrome"
     ]
    },
    {
     "cell_type": "code",
     "collapsed": false,
     "input": [
      "def is_palindrome(seq):\n",
      "    if seq == seq[::-1]:\n",
      "        return True\n",
      "    else:\n",
      "        return False"
     ],
     "language": "python",
     "metadata": {},
     "outputs": [],
     "prompt_number": 63
    },
    {
     "cell_type": "code",
     "collapsed": false,
     "input": [
      "# If your code is right, the following asserts would succeed.\n",
      "assert(is_palindrome('radar') is True)\n",
      "assert(is_palindrome('civic') is True)\n",
      "assert(is_palindrome('honda') is False)"
     ],
     "language": "python",
     "metadata": {},
     "outputs": [],
     "prompt_number": 64
    },
    {
     "cell_type": "markdown",
     "metadata": {},
     "source": [
      "### Problem 9: Find the five most commonly used words in Gettysburg Address\n",
      "\n",
      "Hint: http://www.d.umn.edu/~rmaclin/gettysburg-address.html"
     ]
    },
    {
     "cell_type": "code",
     "collapsed": false,
     "input": [
      "# If the following import gives error, go to command prompt and run \"conda install requests\"\n",
      "import requests\n",
      "\n",
      "url = 'http://www.d.umn.edu/~rmaclin/gettysburg-address.html'\n",
      "gettsburg = requests.get(url).text"
     ],
     "language": "python",
     "metadata": {},
     "outputs": [],
     "prompt_number": 82
    },
    {
     "cell_type": "code",
     "collapsed": false,
     "input": [
      "# If the following import gives error, go to command prompt and run \"conda install requests\"\n",
      "import requests\n",
      "\n",
      "url = 'http://www.d.umn.edu/~rmaclin/gettysburg-address.html'\n",
      "gettsburg = requests.get(url).text\n",
      "\n",
      "import re\n",
      "words  = [w.lower() for w in gettsburg.split() if re.match(\"\\w\", w)]\n",
      "words = [w for w in words if '=' not in w]\n",
      "freqs={}\n",
      "for word in words:\n",
      "\tif word not in freqs.keys():\n",
      "\t\tfreqs[word] = 1\n",
      "\telse:\n",
      "\t\tfreqs[word] += 1\n",
      "\n",
      "sorted_freqs = sorted(freqs.items(), key=lambda x: x[1], reverse=True)\n",
      "print \"TOP FIVE\"\n",
      "print sorted_freqs[:5]"
     ],
     "language": "python",
     "metadata": {},
     "outputs": [
      {
       "output_type": "stream",
       "stream": "stdout",
       "text": [
        "TOP FIVE\n",
        "[(u'that', 13), (u'the', 13), (u'we', 10), (u'to', 8), (u'of', 7)]\n"
       ]
      }
     ],
     "prompt_number": 83
    },
    {
     "cell_type": "markdown",
     "metadata": {},
     "source": [
      "# Problem 10: Do problem 9 excluding stop words like \"a, the, and etc.\""
     ]
    },
    {
     "cell_type": "code",
     "collapsed": false,
     "input": [
      "# If the following import gives error, go to command prompt and run \"conda install requests\"\n",
      "import requests\n",
      "\n",
      "url = 'http://www.d.umn.edu/~rmaclin/gettysburg-address.html'\n",
      "gettsburg = requests.get(url).text\n",
      "\n",
      "stop\n",
      "\n",
      "import re\n",
      "words  = [w.lower() for w in gettsburg.split() if re.match(\"\\w\", w)]\n",
      "words = [w for w in words if '=' not in w]\n",
      "freqs={}\n",
      "for word in words:\n",
      "\tif word not in freqs.keys():\n",
      "\t\tfreqs[word] = 1\n",
      "\telse:\n",
      "\t\tfreqs[word] += 1\n",
      "\n",
      "sorted_freqs = sorted(freqs.items(), key=lambda x: x[1], reverse=True)\n",
      "print \"TOP FIVE\"\n",
      "print sorted_freqs"
     ],
     "language": "python",
     "metadata": {},
     "outputs": [
      {
       "output_type": "stream",
       "stream": "stdout",
       "text": [
        "TOP FIVE\n",
        "[(u'can', 5), (u'have', 5), (u'it', 4), (u'in', 4), (u'they', 3)]\n"
       ]
      }
     ],
     "prompt_number": 86
    },
    {
     "cell_type": "code",
     "collapsed": false,
     "input": [],
     "language": "python",
     "metadata": {},
     "outputs": []
    }
   ],
   "metadata": {}
  }
 ]
}