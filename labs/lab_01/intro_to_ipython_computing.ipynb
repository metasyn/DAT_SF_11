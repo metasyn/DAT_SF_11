{
 "metadata": {
  "name": "",
<<<<<<< HEAD
  "signature": "sha256:be8c1dbce0e7deca2f3ab2856dd98b9c92ee00591a7a6e56cbfbd75e10e1fcec"
=======
  "signature": "sha256:c84e410beb2ed5b5887edcac8d8f928be33346bd223390d6d34f9782dc7957cf"
>>>>>>> de61dfc97088eeff10b4d5519fc95c07e55a5e56
 },
 "nbformat": 3,
 "nbformat_minor": 0,
 "worksheets": [
  {
   "cells": [
    {
     "cell_type": "markdown",
     "metadata": {},
     "source": [
      "GA Data Science - Introduction to Python and computing in the Interactive Python environment\n",
      "======="
     ]
    },
    {
     "cell_type": "markdown",
     "metadata": {},
     "source": [
      "#What is IPython?\n",
      "###Interactive Computing Environment...\n",
      "to execute a cell hit shift+enter"
     ]
    },
    {
     "cell_type": "code",
     "collapsed": false,
     "input": [
      "1+1"
     ],
     "language": "python",
     "metadata": {},
     "outputs": []
    },
    {
     "cell_type": "code",
     "collapsed": false,
     "input": [
      "print 'hello world'"
     ],
     "language": "python",
     "metadata": {},
     "outputs": []
    },
    {
     "cell_type": "markdown",
     "metadata": {},
     "source": [
      "###but so much more..."
     ]
    },
    {
     "cell_type": "code",
     "collapsed": false,
     "input": [
      "from IPython.core.display import HTML\n",
      "HTML(\"<iframe src=http://www.ipython.org width=1000 height=800></iframe>\")"
     ],
     "language": "python",
     "metadata": {},
     "outputs": []
    },
    {
     "cell_type": "code",
     "collapsed": false,
     "input": [
      "%matplotlib inline\n",
      "import matplotlib.pyplot as plt\n",
      "import numpy as np\n",
      "from IPython.core.pylabtools import figsize\n",
      "figsize(12,5)\n",
      "plt.style.use('fivethirtyeight')\n",
      "\n",
      "x = np.linspace(0, 2*np.pi, 42)\n",
      "f1 = 5 * np.sin(x)\n",
      "f2 = 2 * np.sin(2*x)\n",
      "f3 = 1 * np.sin(3*x)\n",
      "plt.plot(x, f1)\n",
      "plt.plot(x, f2, 'ro')\n",
      "plt.plot(x, f3, 'g--')\n",
      "plt.title('Hello Plot')"
     ],
     "language": "python",
     "metadata": {},
     "outputs": []
    },
    {
     "cell_type": "markdown",
     "metadata": {},
     "source": [
      "_NOTE:_ Looks like Anaconda distribution is out-of-date with the latest matplotlib, if you get an error running the above cell try<br> \n",
      "`$ conda update matplotlib`<br>\n",
      "to get custom syle-sheets working do:<br>"
     ]
    },
    {
     "cell_type": "code",
     "collapsed": false,
     "input": [
      "from IPython.html.widgets import interact\n",
      "import numpy as np\n",
      "def plot_powers(y_power=1):\n",
      "    x = np.arange(10)\n",
      "    y_true = np.arange(10) ** 2  # Assume true model is Y = X ** 2\n",
      "    plt.scatter(x, y_true)  # Plot the true values as a scatter plot\n",
      "    # Now try out the model with various powers\n",
      "    y_model = np.arange(10) ** y_power\n",
      "    plt.plot(x, y_model, 'r-')  # Plot the model\n",
      "_ = interact(plot_powers, x_power=(1, 5), y_power=(1, 5))"
     ],
     "language": "python",
     "metadata": {},
     "outputs": []
    },
    {
     "cell_type": "markdown",
     "metadata": {},
     "source": [
      "###In fact it's magic...\n",
      "IPython provides a suite of command tools to do useful stuff, here are a few:<br>\n",
      "`!` submits a UNIX shell command"
     ]
    },
    {
     "cell_type": "code",
     "collapsed": false,
     "input": [
      "!ls -la"
     ],
     "language": "python",
     "metadata": {},
     "outputs": []
    },
    {
     "cell_type": "markdown",
     "metadata": {},
     "source": [
      "`%%time` will calculate how long a cell took to execute"
     ]
    },
    {
     "cell_type": "code",
     "collapsed": false,
     "input": [
      "%%time\n",
      "a = [x for x in range(1000000)]\n",
      "del a"
     ],
     "language": "python",
     "metadata": {},
     "outputs": []
    },
    {
     "cell_type": "code",
     "collapsed": false,
     "input": [
      "%lsmagic"
     ],
     "language": "python",
     "metadata": {},
     "outputs": []
    },
    {
     "cell_type": "code",
     "collapsed": false,
     "input": [
      "?str.upper()"
     ],
     "language": "python",
     "metadata": {},
     "outputs": []
    },
    {
     "cell_type": "markdown",
     "metadata": {},
     "source": [
      "#Programming in Python\n",
      "What do we already know?\n",
      "* variables?\n",
      "* `for` loop?\n",
      "* arrays? lists?\n",
      "* hash table? dictionary?\n",
      "* functions? classes?\n",
      "* decorators? generators?"
     ]
    },
    {
     "cell_type": "markdown",
     "metadata": {},
     "source": [
      "##00 - Basic Python execution"
     ]
    },
    {
     "cell_type": "code",
     "collapsed": false,
     "input": [
      "a = 1\n",
      "b = 2\n",
      "a+b"
     ],
     "language": "python",
     "metadata": {},
     "outputs": []
    },
    {
     "cell_type": "code",
     "collapsed": false,
     "input": [
      "1/2"
     ],
     "language": "python",
     "metadata": {},
     "outputs": []
    },
    {
     "cell_type": "markdown",
     "metadata": {},
     "source": [
      "Wuuuhhh? BEWARE OF INTEGER DIVISION!"
     ]
    },
    {
     "cell_type": "code",
     "collapsed": false,
     "input": [
      "1.0/2"
     ],
     "language": "python",
     "metadata": {},
     "outputs": []
    },
    {
     "cell_type": "markdown",
     "metadata": {},
     "source": [
      "That feels better"
     ]
    },
    {
     "cell_type": "code",
     "collapsed": false,
     "input": [
      "name = 'chad'\n",
      "print name"
     ],
     "language": "python",
     "metadata": {},
     "outputs": []
    },
    {
     "cell_type": "markdown",
     "metadata": {},
     "source": [
      "Sting Concatenation with `+`"
     ]
    },
    {
     "cell_type": "code",
     "collapsed": false,
     "input": [
      "truth = name + ' is a pretty ok guy'\n",
      "print truth"
     ],
     "language": "python",
     "metadata": {},
     "outputs": []
    },
    {
     "cell_type": "code",
     "collapsed": false,
     "input": [
      "zeal = (truth+'! ')*10\n",
      "print zeal"
     ],
     "language": "python",
     "metadata": {},
     "outputs": []
    },
    {
     "cell_type": "code",
     "collapsed": false,
     "input": [
      "emphatic_zeal = zeal.upper()\n",
      "print emphatic_zeal"
     ],
     "language": "python",
     "metadata": {},
     "outputs": []
    },
    {
     "cell_type": "markdown",
     "metadata": {},
     "source": [
      "and so much more..."
     ]
    },
    {
     "cell_type": "code",
     "collapsed": false,
     "input": [
      "dir(emphatic_zeal)"
     ],
     "language": "python",
     "metadata": {},
     "outputs": []
    },
    {
     "cell_type": "markdown",
     "metadata": {},
     "source": [
      "##01 - Data Structures\n",
      "*Lists*<br>\n",
      "Python Lists can contain an arbitary list of objects.  It can be ints, strings, dictionaries, objects, and even functions.\n",
      "\n",
      "*Tuple*<br>\n",
      "Tuple is unique to Python and is not present in other languages.  Tuples are like lists, but cannot be appended or deleted after initialization.  You can create new Tuples, but cannot add more elements to existing tuple. Tuple is more efficient than Lists and has a subset of API that List has.\n",
      "\n",
      "*Sets*<br>\n",
      "Dicts are like lists, but the values are unique in the list.  You have additional functions to do Set unions, intersections etc.\n",
      "\n",
      "*Dictionaries*<br>\n",
      "Dictionaries (hashmap in other languages) creates a Key-Value container.  Just like lists, Values can be of any type - ints, strings, lists, functions and even another dict.\n",
      "\n",
      "The Key of dictionary must be \"immutable\" - int, string, tuple\n",
      "\n",
      "These classes can also be used as Iterable to access the elements.  Iterable is an object that can be iterated over (in a for loop for instance).  Just think of it as a sequence.  It would be clear once we do some examples.\n",
      "\n",
      "Below are examples of some of these data structures\n",
      "###01.1 - Lists"
     ]
    },
    {
     "cell_type": "code",
     "collapsed": false,
     "input": [
      "[1,2,3,10,9,8,100,32,13,13,13]"
     ],
     "language": "python",
     "metadata": {},
     "outputs": []
    },
    {
     "cell_type": "code",
     "collapsed": false,
     "input": [
      "a = [1,2,3,10,9,8,100,32,13,13,13]"
     ],
     "language": "python",
     "metadata": {},
     "outputs": []
    },
    {
     "cell_type": "markdown",
     "metadata": {},
     "source": [
      "####01.1.1 - Indexing"
     ]
    },
    {
     "cell_type": "code",
     "collapsed": false,
     "input": [
      "a[0]"
     ],
     "language": "python",
     "metadata": {},
     "outputs": []
    },
    {
     "cell_type": "markdown",
     "metadata": {},
     "source": [
      "####01.1.2 - Slicing"
     ]
    },
    {
     "cell_type": "code",
     "collapsed": false,
     "input": [
      "a[1:8]"
     ],
     "language": "python",
     "metadata": {},
     "outputs": []
    },
    {
     "cell_type": "code",
     "collapsed": false,
     "input": [
      "a[1:8:2]"
     ],
     "language": "python",
     "metadata": {},
     "outputs": []
    },
    {
     "cell_type": "code",
     "collapsed": false,
     "input": [
      "a[-1]"
     ],
     "language": "python",
     "metadata": {},
     "outputs": []
    },
    {
     "cell_type": "markdown",
     "metadata": {},
     "source": [
      "####01.1.3 - Slice/Transform"
     ]
    },
    {
     "cell_type": "code",
     "collapsed": false,
     "input": [
      "a[::-1]"
     ],
     "language": "python",
     "metadata": {},
     "outputs": []
    },
    {
     "cell_type": "code",
     "collapsed": false,
     "input": [
      "a.reverse()\n",
      "a"
     ],
     "language": "python",
     "metadata": {},
     "outputs": []
    },
    {
     "cell_type": "markdown",
     "metadata": {},
     "source": [
      "What is the difference between these methods?"
     ]
    },
    {
     "cell_type": "code",
     "collapsed": false,
     "input": [
      "a."
     ],
     "language": "python",
     "metadata": {},
     "outputs": []
    },
    {
     "cell_type": "markdown",
     "metadata": {},
     "source": [
      "Lists can be any collection of objects:<br>\n",
      "Remember `truth`?"
     ]
    },
    {
     "cell_type": "code",
     "collapsed": false,
     "input": [
      "truth.split()"
     ],
     "language": "python",
     "metadata": {},
     "outputs": []
    },
    {
     "cell_type": "code",
     "collapsed": false,
     "input": [
      "truth_list = truth.split()\n",
      "truth_list[0]"
     ],
     "language": "python",
     "metadata": {},
     "outputs": []
    },
    {
     "cell_type": "markdown",
     "metadata": {},
     "source": [
      "###01.2 - Dictionaries\n",
      "Dictionaries are unordered sets of key : value pairs. That is, they not only store the value, but also what the value represents. "
     ]
    },
    {
     "cell_type": "code",
     "collapsed": false,
     "input": [
      "chad = {'favorite_number':2,\n",
      "        'favorite_color':'green',\n",
      "        'favorite_foods':['apples','ramen','baby seals']}\n",
      "chad"
     ],
     "language": "python",
     "metadata": {},
     "outputs": []
    },
    {
     "cell_type": "code",
     "collapsed": false,
     "input": [
      "print chad.keys()\n",
      "print chad.values()"
     ],
     "language": "python",
     "metadata": {},
     "outputs": []
    },
    {
     "cell_type": "markdown",
     "metadata": {},
     "source": [
      "Update (dictionary keys must be unique)"
     ]
    },
    {
     "cell_type": "code",
     "collapsed": false,
     "input": [
      "chad['favorite_number'] = chad['favorite_number']*2\n",
      "chad['favorite_number']"
     ],
     "language": "python",
     "metadata": {},
     "outputs": []
    },
    {
     "cell_type": "markdown",
     "metadata": {},
     "source": [
      "You can nest dictionaries in dictionaries, to show complex relationships between objects"
     ]
    },
    {
     "cell_type": "code",
     "collapsed": false,
     "input": [
      "chad['family'] = {'wife':'shannon','children':['vye','jude','maeve']}\n",
      "chad"
     ],
     "language": "python",
     "metadata": {},
     "outputs": []
    },
    {
     "cell_type": "code",
     "collapsed": false,
     "input": [
      "chad['family']['children'][1]"
     ],
     "language": "python",
     "metadata": {},
     "outputs": []
    },
    {
     "cell_type": "markdown",
     "metadata": {},
     "source": [
      "The better way to create a dict in Python"
     ]
    },
    {
     "cell_type": "code",
     "collapsed": false,
     "input": [
      "travel = dict()\n",
      "travel['start'] = \"SFO\"\n",
      "travel['dest'] = \"NYC\"\n",
      "travel['miles'] = 2600\n",
      "travel['options'] = [\"United\", \"JetBlue\", \"SouthWest\"]"
     ],
     "language": "python",
     "metadata": {},
     "outputs": []
    },
    {
     "cell_type": "markdown",
     "metadata": {},
     "source": [
      "###01.3 - Tuples"
     ]
    },
    {
     "cell_type": "code",
     "collapsed": false,
     "input": [
      "a = ('dog','cat','orange')"
     ],
     "language": "python",
     "metadata": {},
     "outputs": []
    },
    {
     "cell_type": "code",
     "collapsed": false,
     "input": [
      "a[1]"
     ],
     "language": "python",
     "metadata": {},
     "outputs": []
    },
    {
     "cell_type": "code",
     "collapsed": false,
     "input": [
      "a[1]='apple'"
     ],
     "language": "python",
     "metadata": {},
     "outputs": []
    },
    {
     "cell_type": "markdown",
     "metadata": {},
     "source": [
      "tuples are immutable"
     ]
    },
    {
     "cell_type": "markdown",
     "metadata": {},
     "source": [
      "##02 - Functions and Flows\n",
      "The basics of functions in Python are a definition (function name and input name[s]) and a return (output)."
     ]
    },
    {
     "cell_type": "code",
     "collapsed": false,
     "input": [
      "def put_a_bird_on_it(almost_anything):\n",
      "    return almost_anything+'??? put a bird on it!'"
     ],
     "language": "python",
     "metadata": {},
     "outputs": []
    },
    {
     "cell_type": "code",
     "collapsed": false,
     "input": [
      "put_a_bird_on_it('decorative plates')"
     ],
     "language": "python",
     "metadata": {},
     "outputs": []
    },
    {
     "cell_type": "code",
     "collapsed": false,
     "input": [
      "put_a_bird_on_it(4)"
     ],
     "language": "python",
     "metadata": {},
     "outputs": []
    },
    {
     "cell_type": "markdown",
     "metadata": {},
     "source": [
      "####02.1 - Iteration, how to do something to a lot of things...\n",
      "Put a bird on all these things"
     ]
    },
    {
     "cell_type": "code",
     "collapsed": false,
     "input": [
      "things = ['lamp shades','football helmets','brussel sprouts','dodge stratus']"
     ],
     "language": "python",
     "metadata": {},
     "outputs": []
    },
    {
     "cell_type": "markdown",
     "metadata": {},
     "source": [
      "The ugly way:"
     ]
    },
    {
     "cell_type": "code",
     "collapsed": false,
     "input": [
      "list_of_bird_things = []\n",
      "num_items = len(things)\n",
      "for i in range(num_items):\n",
      "    bird_thing = put_a_bird_on_it(things[i])\n",
      "    list_of_bird_things.append(bird_thing)\n",
      "list_of_bird_things"
     ],
     "language": "python",
     "metadata": {},
     "outputs": []
    },
    {
     "cell_type": "markdown",
     "metadata": {},
     "source": [
      "But python knows what lists are for....iterating:"
     ]
    },
    {
     "cell_type": "code",
     "collapsed": false,
     "input": [
      "list_of_bird_things = []\n",
      "for item in things:\n",
      "    list_of_bird_things.append(put_a_bird_on_it(item))\n",
      "list_of_bird_things"
     ],
     "language": "python",
     "metadata": {},
     "outputs": []
    },
    {
     "cell_type": "markdown",
     "metadata": {},
     "source": [
      "Pythonic Tangent - the above pattern of creating a list by iterating over another list is so common that Python has elevated the pattern to syntax called a List Comprehension. So we can express the same statement above as:"
     ]
    },
    {
     "cell_type": "code",
     "collapsed": false,
     "input": [
      "list_of_bird_things = [put_a_bird_on_it(item) for item in things]\n",
      "list_of_bird_things"
     ],
     "language": "python",
     "metadata": {},
     "outputs": []
    },
    {
     "cell_type": "markdown",
     "metadata": {},
     "source": [
      "Functional Tangent - feel free to ignore this :)"
     ]
    },
    {
     "cell_type": "code",
     "collapsed": false,
     "input": [
      "map(put_a_bird_on_it,things)"
     ],
     "language": "python",
     "metadata": {},
     "outputs": []
    },
    {
     "cell_type": "markdown",
     "metadata": {},
     "source": [
      "####02.2 - Control Flow"
     ]
    },
    {
     "cell_type": "code",
     "collapsed": false,
     "input": [
      "if True:\n",
      "    print 'hello'"
     ],
     "language": "python",
     "metadata": {},
     "outputs": []
    },
    {
     "cell_type": "code",
     "collapsed": false,
     "input": [
      "if 'abc'=='Abc':\n",
      "    print 'hello'\n",
      "else: \n",
      "    print 'goodbye'"
     ],
     "language": "python",
     "metadata": {},
     "outputs": []
    },
    {
     "cell_type": "code",
     "collapsed": false,
     "input": [
      "lst = [23,32,2,3]\n",
      "for item in lst:\n",
      "    if item%2==0: #modulus operator\n",
      "        print 'even'\n",
      "    elif item%2!=0:\n",
      "        print 'odd'"
     ],
     "language": "python",
     "metadata": {},
     "outputs": []
    },
    {
     "cell_type": "markdown",
     "metadata": {},
     "source": [
      "##LAB EXERCISE 1: Functions, Data Structures, and flow controls\n",
      "####Given some data:"
     ]
    },
    {
     "cell_type": "code",
     "collapsed": false,
     "input": [
      "data = [ 5,  9,  6,  1, 10,  7,  5,  0,  2,  4,  4,  6, 10,  8, 14,  0, 11,\n",
      "       12,  0,  7, 14,  1,  3,  7,  8, 14,  9,  2,  8, 14, 11,  6,  6,  6,\n",
      "        0,  3, 10,  2, 14,  6,  7,  7,  3, 13,  0,  4, 12,  4, 10,  8,  8,\n",
      "        6,  8,  8,  7,  2, 14, 13,  0,  7, 10,  2,  4, 12,  6, 12,  1,  3,\n",
      "        2,  0,  1,  8,  8,  4,  1, 10,  2, 13,  3,  4,  8,  7,  6, 10, 11,\n",
      "        6, 10,  8,  5,  9,  7,  7,  8, 13,  3, 14,  7,  9, 11,  8]"
     ],
     "language": "python",
     "metadata": {},
     "outputs": []
    },
    {
     "cell_type": "markdown",
     "metadata": {},
     "source": [
      "####Write a function that will take a list of integers and return a dictionary where the keys are the unique integers in the list and values are the number of times they occur in the list.\n",
      "e.g. `[ 1 , 2 , 1 , 1 , 2 , 12 ] -> { 1:3 , 2:2 , 12:1 }`"
     ]
    },
    {
     "cell_type": "code",
     "collapsed": false,
     "input": [
      "def countem(num):\n",
      "    if type(num) != list:\n",
      "        raise TypeError\n",
      "    counts = {}\n",
      "    for n in num:\n",
      "        if n in counts.keys():\n",
      "            counts[n] += 1\n",
      "        else:\n",
      "            counts[n] = 1\n",
      "    return counts\n",
      "        \n",
      "countem([ 1 , 2 , 1 , 1 , 2 , 12 ])"
     ],
     "language": "python",
     "metadata": {},
     "outputs": []
    },
    {
     "cell_type": "markdown",
     "metadata": {},
     "source": [
      "####If you're done, try exploring some of the built-in list functions"
     ]
    },
    {
     "cell_type": "code",
     "collapsed": false,
     "input": [
      "dir(list)"
     ],
     "language": "python",
     "metadata": {},
     "outputs": []
    },
    {
     "cell_type": "code",
     "collapsed": false,
     "input": [
      "lise = ['1','2','3']\n",
      "lise.sort(reverse=True)\n",
      "lise.remove('3')\n",
      "lise.reverse()\n",
      "lise.append('woo')\n",
      "lise"
     ],
     "language": "python",
     "metadata": {},
     "outputs": []
    },
    {
     "cell_type": "markdown",
     "metadata": {},
     "source": [
      "##03 - File I/O"
     ]
    },
    {
     "cell_type": "markdown",
     "metadata": {},
     "source": [
      "Sometimes we want to save some data for later use."
     ]
    },
    {
     "cell_type": "markdown",
     "metadata": {},
     "source": [
      "####03.1 - Regular file reading and writing"
     ]
    },
    {
     "cell_type": "code",
     "collapsed": false,
     "input": [
      "line = 'Call me Ishmael.\\n'\n",
      "print line"
     ],
     "language": "python",
     "metadata": {},
     "outputs": []
    },
    {
     "cell_type": "markdown",
     "metadata": {},
     "source": [
      "We can access our machines file storage system with `open` function."
     ]
    },
    {
     "cell_type": "code",
     "collapsed": false,
     "input": [
      "?open"
     ],
     "language": "python",
     "metadata": {},
     "outputs": []
    },
    {
     "cell_type": "markdown",
     "metadata": {},
     "source": [
      "Here we create a file and write our line to that file called `moby_dick.txt`"
     ]
    },
    {
     "cell_type": "code",
     "collapsed": false,
     "input": [
      "file_writer = open('moby_dick.txt','w')\n",
      "file_writer.write(line)\n",
      "file_writer.close()"
     ],
     "language": "python",
     "metadata": {},
     "outputs": []
    },
    {
     "cell_type": "markdown",
     "metadata": {},
     "source": [
      "Using shell magic we can read the file"
     ]
    },
    {
     "cell_type": "code",
     "collapsed": false,
     "input": [
      "!cat moby_dick.txt"
     ],
     "language": "python",
     "metadata": {},
     "outputs": []
    },
    {
     "cell_type": "markdown",
     "metadata": {},
     "source": [
      "If we want to read the contents of the file into memory, again we use the `open`.<br>\n",
      "*Don't forget to `close()` your file pointers*"
     ]
    },
    {
     "cell_type": "code",
     "collapsed": false,
     "input": [
      "file_reader = open('moby_dick.txt')\n",
      "md_txt = file_reader.read()\n",
      "file_reader.close()\n",
      "print md_txt"
     ],
     "language": "python",
     "metadata": {},
     "outputs": []
    },
    {
     "cell_type": "markdown",
     "metadata": {},
     "source": [
      "####03.2 - JSON, a real-world data format"
     ]
    },
    {
     "cell_type": "markdown",
     "metadata": {},
     "source": [
      "Remember our dictionary `chad`?<br>\n",
      "Python dictionaries comply with a data interchange format called <a href=http://tools.ietf.org/html/rfc4627.html>`JSON`</a>, which has become something of a standard in data storage/transfer...So, you're going to see a lot of it."
     ]
    },
    {
     "cell_type": "code",
     "collapsed": false,
     "input": [
      "chad['name'] = 'chad'"
     ],
     "language": "python",
     "metadata": {},
     "outputs": []
    },
    {
     "cell_type": "markdown",
     "metadata": {},
     "source": [
      "Now that we have a complete record, we want to make a list of records."
     ]
    },
    {
     "cell_type": "code",
     "collapsed": false,
     "input": [
      "people = []\n",
      "people.append(chad)"
     ],
     "language": "python",
     "metadata": {},
     "outputs": []
    },
    {
     "cell_type": "code",
     "collapsed": false,
     "input": [
      "tom_brady = {'name':'tom',\n",
      "             'family': {'children': ['john', 'benjamin', 'vivian'], 'wife': 'gisele'},\n",
      "             'favorite_color': 'blue',\n",
      "             'favorite_foods': ['tofu', 'kale', 'tree bark'],\n",
      "             'favorite_number': 12}\n",
      "people.append(tom_brady)\n",
      "people"
     ],
     "language": "python",
     "metadata": {},
     "outputs": []
    },
    {
     "cell_type": "markdown",
     "metadata": {},
     "source": [
      "At this point we could write our data to file using the same pattern as `moby_dick`, but we want to use the data as a dictionary. We would have to read the file, then parse the file to get retrieve this structure. (YUCK)<br> \n",
      "Luckily, Python provides some special tools for encoding and decoding `JSON` from/to dictionaries. "
     ]
    },
    {
     "cell_type": "code",
     "collapsed": false,
     "input": [
      "import json\n",
      "json.dump(people,open('people.json','w'))\n",
      "!cat people.json"
     ],
     "language": "python",
     "metadata": {},
     "outputs": []
    },
    {
     "cell_type": "code",
     "collapsed": false,
     "input": [
      "another_people = json.load(open('people.json'))\n",
      "another_people"
     ],
     "language": "python",
     "metadata": {},
     "outputs": []
    },
    {
     "cell_type": "code",
     "collapsed": false,
     "input": [
      "favorite_numbers = []\n",
      "for record in another_people:\n",
      "    favorite_numbers.append(record['favorite_number'])\n",
      "print favorite_numbers"
     ],
     "language": "python",
     "metadata": {},
     "outputs": []
    },
    {
     "cell_type": "markdown",
     "metadata": {},
     "source": [
      "##LAB EXERCISE 2: File I/O\n",
      "####`claims.json` is a `JSON` file that contains records of pharmaceutical claims processed by an insurance company.\n",
      "make sure you have `claims.json` in your current working directory"
     ]
    },
    {
     "cell_type": "code",
     "collapsed": false,
     "input": [
      "!ls"
     ],
     "language": "python",
     "metadata": {},
     "outputs": []
    },
    {
     "cell_type": "markdown",
     "metadata": {},
     "source": [
      "####Use the `json` module to load these records into a variable"
     ]
    },
    {
     "cell_type": "code",
     "collapsed": false,
     "input": [
<<<<<<< HEAD
      "import json\n",
      "data = json.load(open('./claims.json', 'r'))"
=======
      "import json"
>>>>>>> de61dfc97088eeff10b4d5519fc95c07e55a5e56
     ],
     "language": "python",
     "metadata": {},
     "outputs": [],
     "prompt_number": 1
    },
    {
     "cell_type": "markdown",
     "metadata": {},
     "source": [
      "####Now, use indexing and slicing to explore the data"
     ]
    },
    {
     "cell_type": "code",
     "collapsed": false,
     "input": [
<<<<<<< HEAD
      "data[1]"
     ],
     "language": "python",
     "metadata": {},
     "outputs": [
      {
       "metadata": {},
       "output_type": "pyout",
       "prompt_number": 2,
       "text": [
        "{u'birthYear': u'1950',\n",
        " u'daysSupplyCount': u'30',\n",
        " u'dispenseQuarter': u'2011Q3',\n",
        " u'gender': u'F',\n",
        " u'generic': u'N',\n",
        " u'ndc': u'0002-4771-90',\n",
        " u'ndc11Digit': u'00002477190',\n",
        " u'newRefillCount': u'0',\n",
        " u'prescSpecialty': u'10201',\n",
        " u'threeDigitPhmZip': u' ',\n",
        " u'threeDigitSubsZip': u'199',\n",
        " u'untsDispensedQuantity': u'30.000'}"
       ]
      }
     ],
     "prompt_number": 2
=======
      "f = open('claims.json')\n",
      "claims = json.load(f)"
     ],
     "language": "python",
     "metadata": {},
     "outputs": [],
     "prompt_number": 6
>>>>>>> de61dfc97088eeff10b4d5519fc95c07e55a5e56
    },
    {
     "cell_type": "code",
     "collapsed": false,
     "input": [
<<<<<<< HEAD
      "data[2]"
=======
      "gen_ndc = {}\n",
      "non_gen_ndc = {}\n",
      "for claim in claims:\n",
      "    if claim['generic'] == 'Y':\n",
      "        if claim['ndc'] not in gen_ndc:\n",
      "            gen_ndc[claim['ndc']] = 1\n",
      "print '0054-0236-27' in gen_ndc"
>>>>>>> de61dfc97088eeff10b4d5519fc95c07e55a5e56
     ],
     "language": "python",
     "metadata": {},
     "outputs": [
      {
<<<<<<< HEAD
       "metadata": {},
       "output_type": "pyout",
       "prompt_number": 3,
       "text": [
        "{u'birthYear': u'1951',\n",
        " u'daysSupplyCount': u'30',\n",
        " u'dispenseQuarter': u'2011Q3',\n",
        " u'gender': u'F',\n",
        " u'generic': u'N',\n",
        " u'ndc': u'0002-4165-30',\n",
        " u'ndc11Digit': u'00002416530',\n",
        " u'newRefillCount': u'0',\n",
        " u'prescSpecialty': u'10301',\n",
        " u'threeDigitPhmZip': u'117',\n",
        " u'threeDigitSubsZip': u'117',\n",
        " u'untsDispensedQuantity': u'30.000'}"
       ]
      }
     ],
     "prompt_number": 3
=======
       "output_type": "stream",
       "stream": "stdout",
       "text": [
        "False\n"
       ]
      }
     ],
     "prompt_number": 26
    },
    {
     "cell_type": "markdown",
     "metadata": {},
     "source": [
      "####Analysis: What is the distribution of birthyears? "
     ]
>>>>>>> de61dfc97088eeff10b4d5519fc95c07e55a5e56
    },
    {
     "cell_type": "code",
     "collapsed": false,
     "input": [
<<<<<<< HEAD
      "data[-1]"
     ],
     "language": "python",
     "metadata": {},
     "outputs": [
      {
       "metadata": {},
       "output_type": "pyout",
       "prompt_number": 4,
       "text": [
        "{u'birthYear': u'1951',\n",
        " u'daysSupplyCount': u'50',\n",
        " u'dispenseQuarter': u'2011Q3',\n",
        " u'gender': u'F',\n",
        " u'generic': u'Y',\n",
        " u'ndc': u'0143-1475-10',\n",
        " u'ndc11Digit': u'00143147510',\n",
        " u'newRefillCount': u'1',\n",
        " u'prescSpecialty': u'10313',\n",
        " u'threeDigitPhmZip': u' ',\n",
        " u'threeDigitSubsZip': u'941',\n",
        " u'untsDispensedQuantity': u'100.000'}"
       ]
      }
     ],
     "prompt_number": 4
=======
      "l = [1, 2]"
     ],
     "language": "python",
     "metadata": {},
     "outputs": [],
     "prompt_number": 31
>>>>>>> de61dfc97088eeff10b4d5519fc95c07e55a5e56
    },
    {
     "cell_type": "code",
     "collapsed": false,
     "input": [
      "?l.sort"
     ],
     "language": "python",
     "metadata": {},
     "outputs": [],
     "prompt_number": 34
    },
    {
     "cell_type": "code",
     "collapsed": false,
     "input": [
<<<<<<< HEAD
      "birthyears = [int(n['birthYear']) for n in data]\n",
      "\n",
      "print(set(birthyears)) # unique values\n",
      "fifties = birthyears.count(1950) # count first\n",
      "fiftyones = birthyears.count(1951) # count second\n",
      "\n",
      "print '*'*70\n",
      "print 'There are {} records with 1950'.format(fifties)\n",
      "print 'There are {} records with 195'.format(fiftyones)\n",
      "print 'Giving a ratio of {}/{} = {}'.format(fifties,fiftyones,float(fifties)/fiftyones)\n",
      "print '*'*70\n"
=======
      "d = {'a': 5, 'b': 6, 'c': 1}\n",
      "max_v = 0\n",
      "max_k = ''\n",
      "for key, val in d.items():\n",
      "    if v > max_v:\n",
      "        max_v = v\n",
      "        max_k = k\n",
      "print max_k, max_v"
>>>>>>> de61dfc97088eeff10b4d5519fc95c07e55a5e56
     ],
     "language": "python",
     "metadata": {},
     "outputs": [
      {
       "output_type": "stream",
       "stream": "stdout",
       "text": [
<<<<<<< HEAD
        "set([1950, 1951])\n",
        "**********************************************************************\n",
        "There are 51320 records with 1950\n",
        "There are 48680 records with 195\n",
        "Giving a ratio of 51320/48680 = 1.05423171734\n",
        "**********************************************************************\n"
       ]
      }
     ],
     "prompt_number": 5
=======
        "b 6\n"
       ]
      }
     ],
     "prompt_number": 30
>>>>>>> de61dfc97088eeff10b4d5519fc95c07e55a5e56
    },
    {
     "cell_type": "markdown",
     "metadata": {},
     "source": [
      "####Analysis: I want to identify drugs that have a generic form but where doctors prescribe the non-generic. Drugs are uniquely identified by the `ndc` code, if it is the generic form the `generic` field will have a value of `'Y'`"
     ]
    },
    {
     "cell_type": "code",
     "collapsed": false,
     "input": [
      "generic_exists = [d for d in data if d['generic']=='Y']\n",
      "ndcs = list(set([d['ndc'] for d in data]))\n",
      "print(len(ndcs))\n",
      "ratio = {}\n",
      "for drug in ndcs:\n",
      "    generic_count = 0\n",
      "    no_generic_count = 0\n",
      "    for claim in data:\n",
      "        if claim['ndc'] == drug:\n",
      "            if claim['generic']=='Y':\n",
      "                generic_count += 1\n",
      "            elif claim['generic']=='N':\n",
      "                no_generic_count += 1\n",
      "            else:\n",
      "                print \"Missing value...\"\n",
      "                break\n",
      "    ratio[drug] = [generic_count, no_generic_count]\n",
      "len(ratio)"
     ],
     "language": "python",
     "metadata": {},
     "outputs": []
    },
    {
     "cell_type": "code",
     "collapsed": false,
     "input": [
      "# sanity check\n",
      "possible = [d['generic'] for d in data]\n",
      "counts = [possible.count(d) for d in set(possible)]\n",
      "zip(set(possible), counts)\n",
      "\n",
      "# looks like we have a few thousand with O as an answer\n",
      "# and a 80 with M\n",
      "\n",
      "malpractice = []\n",
      "for drug in ndcs:\n",
      "    if ratio[drug][0] > 0: # some 'yes' generic\n",
      "        if ratio[drug][1] > 0: #  some 'no' generic\n",
      "            malpractice.append([drug, float(ratio[drug][0]/ratio[drug][1])])\n",
      "\n",
      "print malpractice\n",
      "# empty u___u \n",
      "\n",
      "allndcs=[d['ndc'] for d in data]\n",
      "counts = [[allndcs.count(drug), drug] for drug in set(allndcs)]\n"
     ],
     "language": "python",
     "metadata": {},
     "outputs": [
      {
       "output_type": "stream",
       "stream": "stdout",
       "text": [
        "[]\n"
       ]
      }
     ],
     "prompt_number": 59
    },
    {
     "cell_type": "code",
     "collapsed": false,
     "input": [
      "# Finding the most prescribed drugs\n",
      "\n",
      "top = sorted(counts, reverse=True)[:25]\n",
      "print \"Top 25 Drugs\"\n",
      "print \"Drug, Count\"\n",
      "for i in top:\n",
      "    print i[1], i[0]"
     ],
     "language": "python",
     "metadata": {},
     "outputs": [
      {
       "output_type": "stream",
       "stream": "stdout",
       "text": [
        "Top 25 Drugs\n",
        "Drug, Count\n",
        "0186-5040-31 760\n",
        "0071-0156-23 600\n",
        "0006-0117-31 520\n",
        "68180-514-03 480\n",
        "63653-1171-1 480\n",
        "0456-2010-01 480\n",
        "0406-0357-05 480\n",
        "0173-0783-02 480\n",
        "0071-0155-23 480\n",
        "62037-831-01 440\n",
        "68180-479-03 400\n",
        "59310-579-20 400\n",
        "16252-515-01 400\n",
        "0378-0181-05 400\n",
        "0310-0754-30 400\n",
        "0093-7202-98 400\n",
        "55111-399-90 360\n",
        "0378-1811-01 360\n",
        "0310-0752-90 360\n",
        "0310-0751-90 360\n",
        "0002-3270-30 360\n",
        "68180-480-03 320\n",
        "66582-313-31 320\n",
        "64764-175-30 320\n",
        "16729-006-15 320\n"
       ]
      }
     ],
     "prompt_number": 68
    },
    {
     "cell_type": "code",
     "collapsed": false,
     "input": [
      "# Let's get some more information from the web\n",
      "# urllib2 woo !\n",
      "\n",
      "import urllib2\n",
      "import re\n",
      "import sys\n",
      "\n",
      "search_url = \"http://www.hipaaspace.com/Medical_Billing/Coding/National.Drug.Codes/\"\n",
      "regex = ur\"Proprietary Name.+>([\\w\\d\\s]+).+Non Proprietary Name<\\/td><td>([\\w\\d\\s]+)<\"\n",
      "\n",
      "results = [['name', 'non proprietary name', 'ndc', 'prescriptions']]\n",
      "\n",
      "for drug in top:\n",
      "    try:\n",
      "        # make the request\n",
      "        request=urllib2.urlopen(search_url+drug[1])\n",
      "        # get the content of the page\n",
      "        content=request.read()\n",
      "        # find our regex matches\n",
      "        match = re.search(regex, content)\n",
      "        # return added information to list\n",
      "        results.append([match.group(1), match.group(2), drug[1], drug[0]])\n",
      "    except:\n",
      "        results.append(['...', '...', drug[1], drug[0]])\n",
      "        print sys.exc_info()[0]\n",
      "        continue"
     ],
     "language": "python",
     "metadata": {},
     "outputs": [
      {
       "output_type": "stream",
       "stream": "stdout",
       "text": [
        "<class 'urllib2.HTTPError'>\n",
        "<type 'exceptions.AttributeError'>"
       ]
      },
      {
       "output_type": "stream",
       "stream": "stdout",
       "text": [
        "\n",
        "<class 'urllib2.HTTPError'>"
       ]
      },
      {
       "output_type": "stream",
       "stream": "stdout",
       "text": [
        "\n"
       ]
      }
     ],
     "prompt_number": 100
    },
    {
     "cell_type": "code",
     "collapsed": false,
     "input": [
      "for result in results:\n",
      "    print \"{:15} \\t {:30} \\t {:13} {:4}\\n\".format(result[0][:15], result[1][:30], result[2], result[3])"
     ],
     "language": "python",
     "metadata": {},
     "outputs": [
      {
       "output_type": "stream",
       "stream": "stdout",
       "text": [
        "name            \t non proprietary name           \t ndc           prescriptions\n",
        "\n",
        "NEXIUM          \t Esomeprazole magnesium         \t 0186-5040-31   760\n",
        "\n",
        "Lipitor         \t ATORVASTATIN CALCIUM           \t 0071-0156-23   600\n",
        "\n",
        "...             \t ...                            \t 0006-0117-31   520\n",
        "\n",
        "Lisinopril      \t Lisinopril                     \t 68180-514-03   480\n",
        "\n",
        "Plavix          \t clopidogrel bisulfate          \t 63653-1171-1   480\n",
        "\n",
        "Lexapro         \t ESCITALOPRAM OXALATE           \t 0456-2010-01   480\n",
        "\n",
        "HYDROCODONE BIT \t HYDROCODONE BITARTRATE AND ACE \t 0406-0357-05   480\n",
        "\n",
        "...             \t ...                            \t 0173-0783-02   480\n",
        "\n",
        "Lipitor         \t ATORVASTATIN CALCIUM           \t 0071-0155-23   480\n",
        "\n",
        "Metoprolol Succ \t Metoprolol Succinate           \t 62037-831-01   440\n",
        "\n",
        "SIMVASTATIN     \t SIMVASTATIN                    \t 68180-479-03   400\n",
        "\n",
        "...             \t ...                            \t 59310-579-20   400\n",
        "\n",
        "Ciprofloxacin   \t Ciprofloxacin                  \t 16252-515-01   400\n",
        "\n",
        "Allopurinol     \t allopurinol                    \t 0378-0181-05   400\n",
        "\n",
        "CRESTOR         \t Rosuvastatin calcium           \t 0310-0754-30   400\n",
        "\n",
        "Pravastatin Sod \t Pravastatin Sodium             \t 0093-7202-98   400\n",
        "\n",
        "Lansoprazole    \t lansoprazole                   \t 55111-399-90   360\n",
        "\n",
        "Levothyroxine S \t levothyroxine sodium           \t 0378-1811-01   360\n",
        "\n",
        "CRESTOR         \t Rosuvastatin calcium           \t 0310-0752-90   360\n",
        "\n",
        "CRESTOR         \t Rosuvastatin calcium           \t 0310-0751-90   360\n",
        "\n",
        "Cymbalta        \t Duloxetine hydrochloride       \t 0002-3270-30   360\n",
        "\n",
        "SIMVASTATIN     \t SIMVASTATIN                    \t 68180-480-03   320\n",
        "\n",
        "VYTORIN         \t ezetimibe and simvastatin      \t 66582-313-31   320\n",
        "\n",
        "Dexilant        \t dexlansoprazole                \t 64764-175-30   320\n",
        "\n",
        "simvastatin     \t simvastatin                    \t 16729-006-15   320\n",
        "\n"
       ]
      }
     ],
     "prompt_number": 109
    },
    {
     "cell_type": "code",
     "collapsed": false,
     "input": [
      "from matplotlib import pyplot as plt\n",
      "import seaborn as sns\n",
      "\n",
      "dispensed = sorted([float(d['untsDispensedQuantity']) for d in data], reverse=True)\n",
      "plt.hist(dispensed, bins=200)\n",
      "plt.xlim((min(dispensed), 300)) # there are a few 500s and above but we'll count them as outliers\n",
      "plt.show()\n",
      "\n"
     ],
     "language": "python",
     "metadata": {},
     "outputs": [],
     "prompt_number": 7
    },
    {
     "cell_type": "code",
     "collapsed": false,
     "input": [
      "max(dispensed)"
     ],
     "language": "python",
     "metadata": {},
     "outputs": [
      {
       "metadata": {},
       "output_type": "pyout",
       "prompt_number": 137,
       "text": [
        "4000.0"
       ]
      }
     ],
     "prompt_number": 137
    },
    {
     "cell_type": "code",
     "collapsed": false,
     "input": [],
     "language": "python",
     "metadata": {},
     "outputs": []
    }
   ],
   "metadata": {}
  }
 ]
}