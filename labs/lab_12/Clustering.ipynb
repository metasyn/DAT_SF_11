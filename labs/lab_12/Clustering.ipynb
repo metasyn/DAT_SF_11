{
 "metadata": {
  "name": "",
  "signature": "sha256:db3d8ed8a6a9f07c454a873f8caeda8cc18727bbed442fe13e79cd0d8cc348bb"
 },
 "nbformat": 3,
 "nbformat_minor": 0,
 "worksheets": [
  {
   "cells": [
    {
     "cell_type": "markdown",
     "metadata": {},
     "source": [
      "### Clustering\n",
      "Adopted from Notebook created by - [Alessandro D. Gagliardi](https://github.com/eklypse)"
     ]
    },
    {
     "cell_type": "code",
     "collapsed": false,
     "input": [
      "import numpy as np\n",
      "import matplotlib.pyplot as plt\n",
      "import pandas as pd\n",
      "import sklearn.datasets as datasets\n",
      "\n",
      "%matplotlib inline"
     ],
     "language": "python",
     "metadata": {},
     "outputs": []
    },
    {
     "cell_type": "markdown",
     "metadata": {},
     "source": [
      "For our first example, let's create some synthetic easy-to-cluster data:"
     ]
    },
    {
     "cell_type": "code",
     "collapsed": false,
     "input": [
      "X, Y = datasets.make_blobs(centers=4, cluster_std=0.5, random_state=1)"
     ],
     "language": "python",
     "metadata": {},
     "outputs": []
    },
    {
     "cell_type": "markdown",
     "metadata": {},
     "source": [
      "As always, we first *plot* the data to get a feeling of what we're dealing with:"
     ]
    },
    {
     "cell_type": "code",
     "collapsed": false,
     "input": [
      "plt.scatter(X[:,0], X[:,1]);"
     ],
     "language": "python",
     "metadata": {},
     "outputs": []
    },
    {
     "cell_type": "markdown",
     "metadata": {},
     "source": [
      "The data looks like it may contain four different \"types\" of data point. \n",
      "\n",
      "In fact, this is how it was created above.\n",
      "\n",
      "We can plot this information as well, using color:"
     ]
    },
    {
     "cell_type": "code",
     "collapsed": false,
     "input": [
      "plt.scatter(X[:,0], X[:,1], c=Y);"
     ],
     "language": "python",
     "metadata": {},
     "outputs": []
    },
    {
     "cell_type": "markdown",
     "metadata": {},
     "source": [
      "However, if you do not know the information in `Y`, you could try to recover it from the data alone.\n",
      "\n",
      "Using hierarchical clustering, we start with a distance matrix:"
     ]
    },
    {
     "cell_type": "code",
     "collapsed": false,
     "input": [
      "# compute distance matrix\n",
      "from scipy.spatial.distance import pdist, squareform\n",
      "\n",
      "# not printed as pretty, but the values are correct\n",
      "distx = squareform(pdist(X, metric='euclidean'))\n",
      "distx"
     ],
     "language": "python",
     "metadata": {},
     "outputs": []
    },
    {
     "cell_type": "markdown",
     "metadata": {},
     "source": [
      "We then use `scipy.cluster.hierarchy.linkage` to create the hierarchy, and `...dendrogram` to plot it."
     ]
    },
    {
     "cell_type": "code",
     "collapsed": false,
     "input": [
      "# perform clustering and plot the dendrogram\n",
      "from scipy.cluster.hierarchy import linkage, dendrogram\n",
      "\n",
      "R = dendrogram(linkage(distx, method='single'), color_threshold=10)\n",
      "\n",
      "plt.xlabel('points')\n",
      "plt.ylabel('Height')\n",
      "plt.suptitle('Cluster Dendrogram', fontweight='bold', fontsize=14);"
     ],
     "language": "python",
     "metadata": {},
     "outputs": []
    },
    {
     "cell_type": "markdown",
     "metadata": {},
     "source": [
      "`linkage` supports other methods such as [Ward's](http://en.wikipedia.org/wiki/Ward%27s_method):\n",
      "\n",
      "$$ d(u,v) = \\sqrt{\\frac{|v|+|s|}\n",
      "                       {T}d(v,s)^2\n",
      "                + \\frac{|v|+|t|}\n",
      "                       {T}d(v,t)^2\n",
      "                + \\frac{|v|}\n",
      "                       {T}d(s,t)^2}$$"
     ]
    },
    {
     "cell_type": "code",
     "collapsed": false,
     "input": [
      "R = dendrogram(linkage(distx, method='ward'), color_threshold=100)\n",
      "\n",
      "plt.xlabel('points')\n",
      "plt.ylabel('Height')\n",
      "plt.suptitle('Cluster Dendrogram', fontweight='bold', fontsize=14);"
     ],
     "language": "python",
     "metadata": {},
     "outputs": []
    },
    {
     "cell_type": "markdown",
     "metadata": {},
     "source": [
      "Now the label assignments should be quite similar to `Y`, up to a different ordering of the colors:"
     ]
    },
    {
     "cell_type": "markdown",
     "metadata": {},
     "source": [
      "### KMeans\n",
      "\n",
      "Note that `KMeans` takes an optional `random_state` argument but `Ward` does not. This is because hierarchical clustering is deterministic while k-Means involves a random element (for picking initial centroids)."
     ]
    },
    {
     "cell_type": "code",
     "collapsed": false,
     "input": [
      "from sklearn.cluster import KMeans\n",
      "\n",
      "kmeans = KMeans(n_clusters=4, init='random', n_init=10 , max_iter = 300, random_state=1)\n",
      "Y_hat_kmeans = kmeans.fit(X).labels_\n",
      "\n",
      "plt.scatter(X[:,0], X[:,1], c=Y_hat_kmeans);"
     ],
     "language": "python",
     "metadata": {},
     "outputs": []
    },
    {
     "cell_type": "markdown",
     "metadata": {},
     "source": [
      "Often, you're not so much interested in the assignments to the means. \n",
      "\n",
      "You'll want to have a closer look at the means $\\mu$.\n",
      "\n",
      "The means in $\\mu$ can be seen as *representatives* of their respective cluster."
     ]
    },
    {
     "cell_type": "code",
     "collapsed": false,
     "input": [
      "mu = kmeans.cluster_centers_\n",
      "mu"
     ],
     "language": "python",
     "metadata": {},
     "outputs": []
    },
    {
     "cell_type": "code",
     "collapsed": false,
     "input": [
      "plt.scatter(X[:,0], X[:,1], c=Y_hat_kmeans, alpha=0.4)\n",
      "plt.scatter(mu[:,0], mu[:,1], s=100, c=np.unique(Y_hat_kmeans))\n",
      "print mu"
     ],
     "language": "python",
     "metadata": {},
     "outputs": []
    },
    {
     "cell_type": "markdown",
     "metadata": {},
     "source": [
      "### Some Notable Clustering Routines\n",
      "\n",
      "http://scikit-learn.org/stable/modules/clustering.html\n",
      "\n",
      "The following are two well-known clustering algorithms. Like most unsupervised learning models in the scikit, they expect the data to be clustered to have the shape (n_samples, n_features):\n",
      "\n",
      "* sklearn.cluster.KMeans: \n",
      "The simplest, yet effective clustering algorithm. Needs to be provided with the number of clusters in advance, and assumes that the data is normalized as input (but use a PCA model as preprocessor).\n",
      "\n",
      "* sklearn.cluster.MeanShift: \n",
      "Can find better looking clusters than KMeans but is not scalable to high number of samples.\n",
      "\n",
      "* sklearn.cluster.DBSCAN: \n",
      "Can detect irregularly shaped clusters based on density, i.e. sparse regions in the input space are likely to become inter-cluster boundaries. Can also detect outliers (samples that are not part of a cluster).\n",
      "\n",
      "and many more"
     ]
    },
    {
     "cell_type": "markdown",
     "metadata": {},
     "source": [
      "Your Turn\n",
      "=========\n",
      "Try k-Means clustering using the iris data set."
     ]
    },
    {
     "cell_type": "code",
     "collapsed": false,
     "input": [
      "from sklearn.datasets import load_iris"
     ],
     "language": "python",
     "metadata": {},
     "outputs": []
    },
    {
     "cell_type": "code",
     "collapsed": false,
     "input": [
      "iris = datasets.load_iris()"
     ],
     "language": "python",
     "metadata": {},
     "outputs": []
    },
    {
     "cell_type": "code",
     "collapsed": false,
     "input": [
      "X = iris['data']\n",
      "Names = iris['feature_names']\n",
      "target_names = iris['target_names']\n",
      "y = iris['target']"
     ],
     "language": "python",
     "metadata": {},
     "outputs": []
    },
    {
     "cell_type": "code",
     "collapsed": false,
     "input": [
      "y"
     ],
     "language": "python",
     "metadata": {},
     "outputs": []
    },
    {
     "cell_type": "markdown",
     "metadata": {},
     "source": [
      "Display the features names"
     ]
    },
    {
     "cell_type": "code",
     "collapsed": false,
     "input": [
      "target_names"
     ],
     "language": "python",
     "metadata": {},
     "outputs": []
    },
    {
     "cell_type": "code",
     "collapsed": false,
     "input": [
      "Names"
     ],
     "language": "python",
     "metadata": {},
     "outputs": []
    },
    {
     "cell_type": "code",
     "collapsed": false,
     "input": [
      "# Do a Bi-Variante Plotting Analysis to see if you can spot two "
     ],
     "language": "python",
     "metadata": {},
     "outputs": []
    },
    {
     "cell_type": "code",
     "collapsed": false,
     "input": [],
     "language": "python",
     "metadata": {},
     "outputs": []
    }
   ],
   "metadata": {}
  }
 ]
}